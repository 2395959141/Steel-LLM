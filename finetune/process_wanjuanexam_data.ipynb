{
 "cells": [
  {
   "cell_type": "code",
   "execution_count": 1,
   "metadata": {},
   "outputs": [],
   "source": [
    "from glob import glob\n",
    "import pandas as pd\n",
    "DATA_DIR = \"/data/data/fintuning/wanjuan_exam/part-003756-a894b46e.jsonl\"\n",
    "from tqdm import tqdm\n",
    "import json\n",
    "import re\n",
    "import random"
   ]
  },
  {
   "cell_type": "code",
   "execution_count": 13,
   "metadata": {},
   "outputs": [],
   "source": [
    "def format_example(item):\n",
    "    example = item[\"q_main\"] + \"\\n\"\n",
    "    choice_map = {\"A\":\"option_a\", \"B\":\"option_b\", \"C\":\"option_c\", \"D\":\"option_d\"} \n",
    "    for choice in [\"A\",\"B\",\"C\",\"D\"]:\n",
    "        if item[choice_map[choice]] != \"\":\n",
    "            example += f'{choice}. {item[choice_map[choice]]}\\n'\n",
    "    # answer = f'{item[\"std_ans\"]}。{item[\"answer_detail\"]}'\n",
    "    answer = f'{item[\"answer_detail\"]}'\n",
    "    pattern = r\"故选.*\"\n",
    "    answer = re.sub(pattern, '', answer, flags=re.DOTALL)\n",
    "    answer = answer + f'答案为{item[\"std_ans\"]}'\n",
    "    return example, answer\n",
    "\n",
    "all_data = []\n",
    "with open(DATA_DIR, 'r') as file:\n",
    "    for idx, line in enumerate(file):\n",
    "        # 解码JSON对象\n",
    "        json_obj = json.loads(line)\n",
    "        if json_obj[\"std_ans\"]==\"\" or len(json_obj[\"answer_detail\"])<10:\n",
    "            continue\n",
    "        # 处理json_obj\n",
    "        choice, answer = format_example(json_obj)\n",
    "        # f\"以下是一道单选题:\\n{question}请给出答案。\\n\"\n",
    "        instruct = f\"以下是一道{json_obj['q_type']}:\\n{choice}请先给出解释再给出答案。\\n\"\n",
    "        a_data = {\n",
    "                \"instruction\": instruct,\n",
    "                \"input\": \"\",\n",
    "                \"output\": answer\n",
    "            }\n",
    "        # print(a_data)\n",
    "        all_data.append(a_data)\n",
    "\n"
   ]
  },
  {
   "cell_type": "code",
   "execution_count": 15,
   "metadata": {},
   "outputs": [
    {
     "name": "stdout",
     "output_type": "stream",
     "text": [
      "filter before: 1748506\n",
      "filter after: 1748506\n"
     ]
    }
   ],
   "source": [
    "print(\"filter before:\", len(all_data))\n",
    "filted_all_data = [x for x in all_data if \"略\" not in x[\"output\"]]\n",
    "print(\"filter after:\", len(all_data))"
   ]
  },
  {
   "cell_type": "code",
   "execution_count": 16,
   "metadata": {},
   "outputs": [
    {
     "name": "stdout",
     "output_type": "stream",
     "text": [
      "{'instruction': '以下是一道单选题:\\n恰当的安全措施能减少生命财产损失．下列事故处理措施正确的是( )\\nA. 油锅着火，立即盖上锅盖\\nB. 电器着火，立即用水扑灭\\nC. 高层住房着火，立即、打开所有门窗\\nD. 煤气泄漏，立即打开排气扇电源开关\\n请先给出解释再给出答案。\\n', 'input': '', 'output': 'A、油锅着火，立即盖上锅盖，可以隔绝空气达到灭火的目的，故A正确；  \\nB、电器着火，立即用水扑灭，会使人触电，造成伤亡事故，故B错误；  \\nC、高层住房着火，立即大开所有门窗，因为有了充足的氧气会使火势更猛，故C错误；  \\nD、煤气泄漏，立即打开排气扇电源开关，会引起爆炸，故D错误．  \\n答案为A'}\n"
     ]
    }
   ],
   "source": [
    "print(filted_all_data[100])"
   ]
  },
  {
   "cell_type": "code",
   "execution_count": 17,
   "metadata": {},
   "outputs": [],
   "source": [
    "import json\n",
    "json_dir = \"/data/data/fintuning/llamafactory_input/wanjuan_exam_270w_cot.jsonl\"\n",
    "with open(json_dir, 'w', encoding=\"utf-8\") as f:\n",
    "    for item in filted_all_data:\n",
    "        json.dump(item, f, ensure_ascii=False)\n",
    "        f.write('\\n')"
   ]
  },
  {
   "cell_type": "code",
   "execution_count": 4,
   "metadata": {},
   "outputs": [
    {
     "name": "stderr",
     "output_type": "stream",
     "text": [
      "100%|██████████| 4/4 [00:38<00:00,  9.67s/it]"
     ]
    },
    {
     "name": "stdout",
     "output_type": "stream",
     "text": [
      "713702\n"
     ]
    },
    {
     "name": "stderr",
     "output_type": "stream",
     "text": [
      "\n"
     ]
    }
   ],
   "source": [
    "def to_alpaca_data(str_json_data):\n",
    "    return {\n",
    "                \"instruction\": str_json_data[-2][\"value\"],\n",
    "                \"input\": \"\",\n",
    "                \"output\": str_json_data[-1][\"value\"]\n",
    "            }\n",
    "\n",
    "def process_choice_data(str_json_data):\n",
    "    if \"选题]\" in str_json_data:\n",
    "        # print(str_json_data)\n",
    "        return str_json_data\n",
    "    else:\n",
    "        return \"\"\n",
    "\n",
    "def process_one_data(file_dir):\n",
    "    table = pq.read_table(file_dir)\n",
    "    df = table.to_pandas()\n",
    "    # Index(['id', 'conversations', 'label', 'langdetect', 'source'], dtype='object')\n",
    "    # print(df.columns)\n",
    "    # 可以过滤=======================\n",
    "    # need_idx = df[\"langdetect\"] == \"zh-cn\"\n",
    "    # df = df.loc[need_idx, :]\n",
    "    #===============================\n",
    "    text_list = df[\"text\"]\n",
    "    muti_turn_counter = 0\n",
    "    odd_cov_counter = 0\n",
    "    a_file_datas = []\n",
    "    for str_json_data in  text_list:\n",
    "        res = process_choice_data(str_json_data)\n",
    "        if res != \"\":\n",
    "            a_file_datas.append(res)\n",
    "    return a_file_datas \n",
    "\n",
    "all_datas = []\n",
    "for file_dir in tqdm(all_files):\n",
    "    datas = process_one_data(file_dir) \n",
    "    all_datas.extend(datas) \n",
    "print(len(all_datas))"
   ]
  },
  {
   "cell_type": "code",
   "execution_count": 26,
   "metadata": {},
   "outputs": [
    {
     "name": "stdout",
     "output_type": "stream",
     "text": [
      "before data num: 713702\n",
      "after data num: 76536\n"
     ]
    }
   ],
   "source": []
  },
  {
   "cell_type": "code",
   "execution_count": null,
   "metadata": {},
   "outputs": [],
   "source": []
  },
  {
   "cell_type": "code",
   "execution_count": 34,
   "metadata": {},
   "outputs": [
    {
     "name": "stdout",
     "output_type": "stream",
     "text": [
      "{'instruction': '以下是一道选择题，请直接给出答案。下列说法正确的是\\n\\nA. 分离液态空气获得氮气和氧气属于分解反应 \\nB. 禁止在饮用水的水源保护区建化工厂 \\nC. 二氧化碳在空气中含量增多会引起温室效应，属于空气污染物 \\nD. 氧气可以用作火箭发射的燃料 \\n\\n答案：', 'input': '', 'output': 'B'}\n"
     ]
    }
   ],
   "source": [
    "import json\n",
    "print(final_data[0])\n",
    "json_dir = \"/data/data/fintuning/llama3_syne_7w_choice.json\"\n",
    "with open(json_dir, \"w\") as file:\n",
    "    json.dump(final_data, file)"
   ]
  },
  {
   "cell_type": "code",
   "execution_count": 36,
   "metadata": {},
   "outputs": [
    {
     "name": "stdout",
     "output_type": "stream",
     "text": [
      "{'instruction': '以下是一道选择题，请直接给出答案。与元素的化学性质关系最密切的是\\n\\nA. 原子的最外层电子数 \\nB. 核外电子数 \\nC. 中子数 \\nD. 核内质子数 \\n\\n答案：', 'input': '', 'output': 'A'}\n"
     ]
    }
   ],
   "source": [
    "import json\n",
    "with open(\"/data/data/fintuning/llama3_syne_7w_choice.json\", \"r\") as file:\n",
    "    read_data = json.load(file)\n",
    "print(read_data[3])"
   ]
  }
 ],
 "metadata": {
  "kernelspec": {
   "display_name": "pytorch",
   "language": "python",
   "name": "python3"
  },
  "language_info": {
   "codemirror_mode": {
    "name": "ipython",
    "version": 3
   },
   "file_extension": ".py",
   "mimetype": "text/x-python",
   "name": "python",
   "nbconvert_exporter": "python",
   "pygments_lexer": "ipython3",
   "version": "3.10.14"
  }
 },
 "nbformat": 4,
 "nbformat_minor": 2
}
