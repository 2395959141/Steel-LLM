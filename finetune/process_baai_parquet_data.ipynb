{
 "cells": [
  {
   "cell_type": "code",
   "execution_count": 1,
   "metadata": {},
   "outputs": [
    {
     "name": "stdout",
     "output_type": "stream",
     "text": [
      "75 ['/DATA/disk2/yuhang/.cache/modelscope/datasets/BAAI/Infinity-Instruct/7M/train-00050-of-00075.parquet', '/DATA/disk2/yuhang/.cache/modelscope/datasets/BAAI/Infinity-Instruct/7M/train-00007-of-00075.parquet', '/DATA/disk2/yuhang/.cache/modelscope/datasets/BAAI/Infinity-Instruct/7M/train-00030-of-00075.parquet', '/DATA/disk2/yuhang/.cache/modelscope/datasets/BAAI/Infinity-Instruct/7M/train-00014-of-00075.parquet', '/DATA/disk2/yuhang/.cache/modelscope/datasets/BAAI/Infinity-Instruct/7M/train-00062-of-00075.parquet', '/DATA/disk2/yuhang/.cache/modelscope/datasets/BAAI/Infinity-Instruct/7M/train-00043-of-00075.parquet', '/DATA/disk2/yuhang/.cache/modelscope/datasets/BAAI/Infinity-Instruct/7M/train-00065-of-00075.parquet', '/DATA/disk2/yuhang/.cache/modelscope/datasets/BAAI/Infinity-Instruct/7M/train-00066-of-00075.parquet', '/DATA/disk2/yuhang/.cache/modelscope/datasets/BAAI/Infinity-Instruct/7M/train-00061-of-00075.parquet', '/DATA/disk2/yuhang/.cache/modelscope/datasets/BAAI/Infinity-Instruct/7M/train-00045-of-00075.parquet', '/DATA/disk2/yuhang/.cache/modelscope/datasets/BAAI/Infinity-Instruct/7M/train-00047-of-00075.parquet', '/DATA/disk2/yuhang/.cache/modelscope/datasets/BAAI/Infinity-Instruct/7M/train-00001-of-00075.parquet', '/DATA/disk2/yuhang/.cache/modelscope/datasets/BAAI/Infinity-Instruct/7M/train-00040-of-00075.parquet', '/DATA/disk2/yuhang/.cache/modelscope/datasets/BAAI/Infinity-Instruct/7M/train-00020-of-00075.parquet', '/DATA/disk2/yuhang/.cache/modelscope/datasets/BAAI/Infinity-Instruct/7M/train-00067-of-00075.parquet', '/DATA/disk2/yuhang/.cache/modelscope/datasets/BAAI/Infinity-Instruct/7M/train-00037-of-00075.parquet', '/DATA/disk2/yuhang/.cache/modelscope/datasets/BAAI/Infinity-Instruct/7M/train-00021-of-00075.parquet', '/DATA/disk2/yuhang/.cache/modelscope/datasets/BAAI/Infinity-Instruct/7M/train-00052-of-00075.parquet', '/DATA/disk2/yuhang/.cache/modelscope/datasets/BAAI/Infinity-Instruct/7M/train-00071-of-00075.parquet', '/DATA/disk2/yuhang/.cache/modelscope/datasets/BAAI/Infinity-Instruct/7M/train-00008-of-00075.parquet', '/DATA/disk2/yuhang/.cache/modelscope/datasets/BAAI/Infinity-Instruct/7M/train-00070-of-00075.parquet', '/DATA/disk2/yuhang/.cache/modelscope/datasets/BAAI/Infinity-Instruct/7M/train-00022-of-00075.parquet', '/DATA/disk2/yuhang/.cache/modelscope/datasets/BAAI/Infinity-Instruct/7M/train-00026-of-00075.parquet', '/DATA/disk2/yuhang/.cache/modelscope/datasets/BAAI/Infinity-Instruct/7M/train-00049-of-00075.parquet', '/DATA/disk2/yuhang/.cache/modelscope/datasets/BAAI/Infinity-Instruct/7M/train-00068-of-00075.parquet', '/DATA/disk2/yuhang/.cache/modelscope/datasets/BAAI/Infinity-Instruct/7M/train-00034-of-00075.parquet', '/DATA/disk2/yuhang/.cache/modelscope/datasets/BAAI/Infinity-Instruct/7M/train-00044-of-00075.parquet', '/DATA/disk2/yuhang/.cache/modelscope/datasets/BAAI/Infinity-Instruct/7M/train-00063-of-00075.parquet', '/DATA/disk2/yuhang/.cache/modelscope/datasets/BAAI/Infinity-Instruct/7M/train-00019-of-00075.parquet', '/DATA/disk2/yuhang/.cache/modelscope/datasets/BAAI/Infinity-Instruct/7M/train-00033-of-00075.parquet', '/DATA/disk2/yuhang/.cache/modelscope/datasets/BAAI/Infinity-Instruct/7M/train-00041-of-00075.parquet', '/DATA/disk2/yuhang/.cache/modelscope/datasets/BAAI/Infinity-Instruct/7M/train-00035-of-00075.parquet', '/DATA/disk2/yuhang/.cache/modelscope/datasets/BAAI/Infinity-Instruct/7M/train-00018-of-00075.parquet', '/DATA/disk2/yuhang/.cache/modelscope/datasets/BAAI/Infinity-Instruct/7M/train-00064-of-00075.parquet', '/DATA/disk2/yuhang/.cache/modelscope/datasets/BAAI/Infinity-Instruct/7M/train-00072-of-00075.parquet', '/DATA/disk2/yuhang/.cache/modelscope/datasets/BAAI/Infinity-Instruct/7M/train-00013-of-00075.parquet', '/DATA/disk2/yuhang/.cache/modelscope/datasets/BAAI/Infinity-Instruct/7M/train-00036-of-00075.parquet', '/DATA/disk2/yuhang/.cache/modelscope/datasets/BAAI/Infinity-Instruct/7M/train-00028-of-00075.parquet', '/DATA/disk2/yuhang/.cache/modelscope/datasets/BAAI/Infinity-Instruct/7M/train-00000-of-00075.parquet', '/DATA/disk2/yuhang/.cache/modelscope/datasets/BAAI/Infinity-Instruct/7M/train-00046-of-00075.parquet', '/DATA/disk2/yuhang/.cache/modelscope/datasets/BAAI/Infinity-Instruct/7M/train-00039-of-00075.parquet', '/DATA/disk2/yuhang/.cache/modelscope/datasets/BAAI/Infinity-Instruct/7M/train-00006-of-00075.parquet', '/DATA/disk2/yuhang/.cache/modelscope/datasets/BAAI/Infinity-Instruct/7M/train-00054-of-00075.parquet', '/DATA/disk2/yuhang/.cache/modelscope/datasets/BAAI/Infinity-Instruct/7M/train-00002-of-00075.parquet', '/DATA/disk2/yuhang/.cache/modelscope/datasets/BAAI/Infinity-Instruct/7M/train-00027-of-00075.parquet', '/DATA/disk2/yuhang/.cache/modelscope/datasets/BAAI/Infinity-Instruct/7M/train-00057-of-00075.parquet', '/DATA/disk2/yuhang/.cache/modelscope/datasets/BAAI/Infinity-Instruct/7M/train-00015-of-00075.parquet', '/DATA/disk2/yuhang/.cache/modelscope/datasets/BAAI/Infinity-Instruct/7M/train-00017-of-00075.parquet', '/DATA/disk2/yuhang/.cache/modelscope/datasets/BAAI/Infinity-Instruct/7M/train-00011-of-00075.parquet', '/DATA/disk2/yuhang/.cache/modelscope/datasets/BAAI/Infinity-Instruct/7M/train-00042-of-00075.parquet', '/DATA/disk2/yuhang/.cache/modelscope/datasets/BAAI/Infinity-Instruct/7M/train-00023-of-00075.parquet', '/DATA/disk2/yuhang/.cache/modelscope/datasets/BAAI/Infinity-Instruct/7M/train-00032-of-00075.parquet', '/DATA/disk2/yuhang/.cache/modelscope/datasets/BAAI/Infinity-Instruct/7M/train-00009-of-00075.parquet', '/DATA/disk2/yuhang/.cache/modelscope/datasets/BAAI/Infinity-Instruct/7M/train-00024-of-00075.parquet', '/DATA/disk2/yuhang/.cache/modelscope/datasets/BAAI/Infinity-Instruct/7M/train-00059-of-00075.parquet', '/DATA/disk2/yuhang/.cache/modelscope/datasets/BAAI/Infinity-Instruct/7M/train-00074-of-00075.parquet', '/DATA/disk2/yuhang/.cache/modelscope/datasets/BAAI/Infinity-Instruct/7M/train-00038-of-00075.parquet', '/DATA/disk2/yuhang/.cache/modelscope/datasets/BAAI/Infinity-Instruct/7M/train-00010-of-00075.parquet', '/DATA/disk2/yuhang/.cache/modelscope/datasets/BAAI/Infinity-Instruct/7M/train-00053-of-00075.parquet', '/DATA/disk2/yuhang/.cache/modelscope/datasets/BAAI/Infinity-Instruct/7M/train-00058-of-00075.parquet', '/DATA/disk2/yuhang/.cache/modelscope/datasets/BAAI/Infinity-Instruct/7M/train-00012-of-00075.parquet', '/DATA/disk2/yuhang/.cache/modelscope/datasets/BAAI/Infinity-Instruct/7M/train-00031-of-00075.parquet', '/DATA/disk2/yuhang/.cache/modelscope/datasets/BAAI/Infinity-Instruct/7M/train-00055-of-00075.parquet', '/DATA/disk2/yuhang/.cache/modelscope/datasets/BAAI/Infinity-Instruct/7M/train-00029-of-00075.parquet', '/DATA/disk2/yuhang/.cache/modelscope/datasets/BAAI/Infinity-Instruct/7M/train-00056-of-00075.parquet', '/DATA/disk2/yuhang/.cache/modelscope/datasets/BAAI/Infinity-Instruct/7M/train-00016-of-00075.parquet', '/DATA/disk2/yuhang/.cache/modelscope/datasets/BAAI/Infinity-Instruct/7M/train-00060-of-00075.parquet', '/DATA/disk2/yuhang/.cache/modelscope/datasets/BAAI/Infinity-Instruct/7M/train-00004-of-00075.parquet', '/DATA/disk2/yuhang/.cache/modelscope/datasets/BAAI/Infinity-Instruct/7M/train-00005-of-00075.parquet', '/DATA/disk2/yuhang/.cache/modelscope/datasets/BAAI/Infinity-Instruct/7M/train-00048-of-00075.parquet', '/DATA/disk2/yuhang/.cache/modelscope/datasets/BAAI/Infinity-Instruct/7M/train-00073-of-00075.parquet', '/DATA/disk2/yuhang/.cache/modelscope/datasets/BAAI/Infinity-Instruct/7M/train-00069-of-00075.parquet', '/DATA/disk2/yuhang/.cache/modelscope/datasets/BAAI/Infinity-Instruct/7M/train-00003-of-00075.parquet', '/DATA/disk2/yuhang/.cache/modelscope/datasets/BAAI/Infinity-Instruct/7M/train-00051-of-00075.parquet', '/DATA/disk2/yuhang/.cache/modelscope/datasets/BAAI/Infinity-Instruct/7M/train-00025-of-00075.parquet']\n"
     ]
    },
    {
     "name": "stderr",
     "output_type": "stream",
     "text": [
      "/home/chenyuhang/anaconda3/envs/transformers/lib/python3.12/site-packages/tqdm/auto.py:21: TqdmWarning: IProgress not found. Please update jupyter and ipywidgets. See https://ipywidgets.readthedocs.io/en/stable/user_install.html\n",
      "  from .autonotebook import tqdm as notebook_tqdm\n"
     ]
    }
   ],
   "source": [
    "from glob import glob\n",
    "import pyarrow.parquet as pq\n",
    "import pandas as pd\n",
    "ROOT_DIR = \"/DATA/disk2/yuhang/.cache/modelscope/datasets/BAAI/Infinity-Instruct/7M\"\n",
    "all_files = glob(ROOT_DIR+\"/*\")\n",
    "print(len(all_files), all_files)\n",
    "from tqdm import tqdm\n",
    "import json\n",
    "from transformers import AutoTokenizer\n",
    "model_path = \"/DATA/disk2/yuhang/.cache/modelscope/models/Qwen/Qwen2___5-0___5B-Instruct\"\n",
    "tokenizer = AutoTokenizer.from_pretrained(model_path, trust_remote_code=True)\n",
    "import numpy as np"
   ]
  },
  {
   "cell_type": "markdown",
   "metadata": {},
   "source": [
    "# 转为llama factory需要的格式"
   ]
  },
  {
   "cell_type": "code",
   "execution_count": 2,
   "metadata": {},
   "outputs": [
    {
     "name": "stderr",
     "output_type": "stream",
     "text": [
      "  1%|▏         | 1/75 [00:02<02:28,  2.00s/it]"
     ]
    },
    {
     "name": "stdout",
     "output_type": "stream",
     "text": [
      "all data:100000 muti_turn_counter:2421 odd_cov_counter:0 encounter:89869\n"
     ]
    },
    {
     "name": "stderr",
     "output_type": "stream",
     "text": [
      "  3%|▎         | 2/75 [00:04<02:31,  2.07s/it]"
     ]
    },
    {
     "name": "stdout",
     "output_type": "stream",
     "text": [
      "all data:100000 muti_turn_counter:2444 odd_cov_counter:0 encounter:89987\n"
     ]
    },
    {
     "name": "stderr",
     "output_type": "stream",
     "text": [
      "  4%|▍         | 3/75 [00:06<02:29,  2.07s/it]"
     ]
    },
    {
     "name": "stdout",
     "output_type": "stream",
     "text": [
      "all data:100000 muti_turn_counter:2559 odd_cov_counter:0 encounter:89683\n"
     ]
    },
    {
     "name": "stderr",
     "output_type": "stream",
     "text": [
      "  5%|▌         | 4/75 [00:08<02:21,  1.99s/it]"
     ]
    },
    {
     "name": "stdout",
     "output_type": "stream",
     "text": [
      "all data:100000 muti_turn_counter:2401 odd_cov_counter:0 encounter:89917\n"
     ]
    },
    {
     "name": "stderr",
     "output_type": "stream",
     "text": [
      "  7%|▋         | 5/75 [00:10<02:21,  2.02s/it]"
     ]
    },
    {
     "name": "stdout",
     "output_type": "stream",
     "text": [
      "all data:100000 muti_turn_counter:2447 odd_cov_counter:0 encounter:89842\n"
     ]
    },
    {
     "name": "stderr",
     "output_type": "stream",
     "text": [
      "  8%|▊         | 6/75 [00:12<02:19,  2.03s/it]"
     ]
    },
    {
     "name": "stdout",
     "output_type": "stream",
     "text": [
      "all data:100000 muti_turn_counter:2362 odd_cov_counter:0 encounter:89808\n"
     ]
    },
    {
     "name": "stderr",
     "output_type": "stream",
     "text": [
      "  9%|▉         | 7/75 [00:14<02:17,  2.02s/it]"
     ]
    },
    {
     "name": "stdout",
     "output_type": "stream",
     "text": [
      "all data:100000 muti_turn_counter:2396 odd_cov_counter:0 encounter:89905\n"
     ]
    },
    {
     "name": "stderr",
     "output_type": "stream",
     "text": [
      " 11%|█         | 8/75 [00:16<02:16,  2.04s/it]"
     ]
    },
    {
     "name": "stdout",
     "output_type": "stream",
     "text": [
      "all data:100000 muti_turn_counter:2348 odd_cov_counter:0 encounter:90090\n"
     ]
    },
    {
     "name": "stderr",
     "output_type": "stream",
     "text": [
      " 12%|█▏        | 9/75 [00:18<02:14,  2.04s/it]"
     ]
    },
    {
     "name": "stdout",
     "output_type": "stream",
     "text": [
      "all data:100000 muti_turn_counter:2479 odd_cov_counter:0 encounter:89777\n"
     ]
    },
    {
     "name": "stderr",
     "output_type": "stream",
     "text": [
      " 13%|█▎        | 10/75 [00:20<02:13,  2.05s/it]"
     ]
    },
    {
     "name": "stdout",
     "output_type": "stream",
     "text": [
      "all data:100000 muti_turn_counter:2431 odd_cov_counter:0 encounter:89769\n"
     ]
    },
    {
     "name": "stderr",
     "output_type": "stream",
     "text": [
      " 15%|█▍        | 11/75 [00:22<02:10,  2.03s/it]"
     ]
    },
    {
     "name": "stdout",
     "output_type": "stream",
     "text": [
      "all data:100000 muti_turn_counter:2524 odd_cov_counter:0 encounter:89874\n"
     ]
    },
    {
     "name": "stderr",
     "output_type": "stream",
     "text": [
      " 16%|█▌        | 12/75 [00:24<02:09,  2.05s/it]"
     ]
    },
    {
     "name": "stdout",
     "output_type": "stream",
     "text": [
      "all data:100000 muti_turn_counter:2431 odd_cov_counter:0 encounter:89898\n"
     ]
    },
    {
     "name": "stderr",
     "output_type": "stream",
     "text": [
      " 17%|█▋        | 13/75 [00:26<02:06,  2.04s/it]"
     ]
    },
    {
     "name": "stdout",
     "output_type": "stream",
     "text": [
      "all data:100000 muti_turn_counter:2415 odd_cov_counter:1 encounter:89948\n"
     ]
    },
    {
     "name": "stderr",
     "output_type": "stream",
     "text": [
      " 19%|█▊        | 14/75 [00:28<02:06,  2.08s/it]"
     ]
    },
    {
     "name": "stdout",
     "output_type": "stream",
     "text": [
      "all data:100000 muti_turn_counter:2479 odd_cov_counter:1 encounter:89663\n"
     ]
    },
    {
     "name": "stderr",
     "output_type": "stream",
     "text": [
      " 20%|██        | 15/75 [00:30<02:03,  2.06s/it]"
     ]
    },
    {
     "name": "stdout",
     "output_type": "stream",
     "text": [
      "all data:100000 muti_turn_counter:2421 odd_cov_counter:0 encounter:89802\n"
     ]
    },
    {
     "name": "stderr",
     "output_type": "stream",
     "text": [
      " 21%|██▏       | 16/75 [00:32<02:02,  2.07s/it]"
     ]
    },
    {
     "name": "stdout",
     "output_type": "stream",
     "text": [
      "all data:100000 muti_turn_counter:2370 odd_cov_counter:0 encounter:89982\n"
     ]
    },
    {
     "name": "stderr",
     "output_type": "stream",
     "text": [
      "Token indices sequence length is longer than the specified maximum sequence length for this model (162879 > 131072). Running this sequence through the model will result in indexing errors\n",
      " 23%|██▎       | 17/75 [00:35<02:03,  2.13s/it]"
     ]
    },
    {
     "name": "stdout",
     "output_type": "stream",
     "text": [
      "all data:100000 muti_turn_counter:2384 odd_cov_counter:0 encounter:89809\n"
     ]
    },
    {
     "name": "stderr",
     "output_type": "stream",
     "text": [
      " 24%|██▍       | 18/75 [00:37<02:01,  2.13s/it]"
     ]
    },
    {
     "name": "stdout",
     "output_type": "stream",
     "text": [
      "all data:100000 muti_turn_counter:2462 odd_cov_counter:0 encounter:89967\n"
     ]
    },
    {
     "name": "stderr",
     "output_type": "stream",
     "text": [
      " 25%|██▌       | 19/75 [00:39<01:58,  2.11s/it]"
     ]
    },
    {
     "name": "stdout",
     "output_type": "stream",
     "text": [
      "all data:100000 muti_turn_counter:2413 odd_cov_counter:0 encounter:90031\n"
     ]
    },
    {
     "name": "stderr",
     "output_type": "stream",
     "text": [
      " 27%|██▋       | 20/75 [00:41<02:01,  2.21s/it]"
     ]
    },
    {
     "name": "stdout",
     "output_type": "stream",
     "text": [
      "all data:100000 muti_turn_counter:2351 odd_cov_counter:0 encounter:90074\n"
     ]
    },
    {
     "name": "stderr",
     "output_type": "stream",
     "text": [
      " 28%|██▊       | 21/75 [00:43<01:55,  2.14s/it]"
     ]
    },
    {
     "name": "stdout",
     "output_type": "stream",
     "text": [
      "all data:100000 muti_turn_counter:2456 odd_cov_counter:0 encounter:89928\n"
     ]
    },
    {
     "name": "stderr",
     "output_type": "stream",
     "text": [
      " 29%|██▉       | 22/75 [00:45<01:53,  2.14s/it]"
     ]
    },
    {
     "name": "stdout",
     "output_type": "stream",
     "text": [
      "all data:100000 muti_turn_counter:2378 odd_cov_counter:0 encounter:89873\n"
     ]
    },
    {
     "name": "stderr",
     "output_type": "stream",
     "text": [
      " 31%|███       | 23/75 [00:47<01:48,  2.08s/it]"
     ]
    },
    {
     "name": "stdout",
     "output_type": "stream",
     "text": [
      "all data:100000 muti_turn_counter:2476 odd_cov_counter:0 encounter:89754\n"
     ]
    },
    {
     "name": "stderr",
     "output_type": "stream",
     "text": [
      " 32%|███▏      | 24/75 [00:49<01:46,  2.10s/it]"
     ]
    },
    {
     "name": "stdout",
     "output_type": "stream",
     "text": [
      "all data:100000 muti_turn_counter:2386 odd_cov_counter:0 encounter:90023\n"
     ]
    },
    {
     "name": "stderr",
     "output_type": "stream",
     "text": [
      " 33%|███▎      | 25/75 [00:51<01:44,  2.08s/it]"
     ]
    },
    {
     "name": "stdout",
     "output_type": "stream",
     "text": [
      "all data:100000 muti_turn_counter:2309 odd_cov_counter:0 encounter:90244\n"
     ]
    },
    {
     "name": "stderr",
     "output_type": "stream",
     "text": [
      " 35%|███▍      | 26/75 [00:53<01:39,  2.03s/it]"
     ]
    },
    {
     "name": "stdout",
     "output_type": "stream",
     "text": [
      "all data:100000 muti_turn_counter:2468 odd_cov_counter:0 encounter:89821\n"
     ]
    },
    {
     "name": "stderr",
     "output_type": "stream",
     "text": [
      " 36%|███▌      | 27/75 [00:55<01:39,  2.07s/it]"
     ]
    },
    {
     "name": "stdout",
     "output_type": "stream",
     "text": [
      "all data:100000 muti_turn_counter:2427 odd_cov_counter:0 encounter:89838\n"
     ]
    },
    {
     "name": "stderr",
     "output_type": "stream",
     "text": [
      " 37%|███▋      | 28/75 [00:58<01:36,  2.06s/it]"
     ]
    },
    {
     "name": "stdout",
     "output_type": "stream",
     "text": [
      "all data:100000 muti_turn_counter:2423 odd_cov_counter:0 encounter:89920\n"
     ]
    },
    {
     "name": "stderr",
     "output_type": "stream",
     "text": [
      " 39%|███▊      | 29/75 [00:59<01:33,  2.03s/it]"
     ]
    },
    {
     "name": "stdout",
     "output_type": "stream",
     "text": [
      "all data:100000 muti_turn_counter:2437 odd_cov_counter:0 encounter:89954\n"
     ]
    },
    {
     "name": "stderr",
     "output_type": "stream",
     "text": [
      " 40%|████      | 30/75 [01:02<01:33,  2.08s/it]"
     ]
    },
    {
     "name": "stdout",
     "output_type": "stream",
     "text": [
      "all data:100000 muti_turn_counter:2391 odd_cov_counter:0 encounter:90071\n"
     ]
    },
    {
     "name": "stderr",
     "output_type": "stream",
     "text": [
      " 41%|████▏     | 31/75 [01:04<01:30,  2.06s/it]"
     ]
    },
    {
     "name": "stdout",
     "output_type": "stream",
     "text": [
      "all data:100000 muti_turn_counter:2377 odd_cov_counter:0 encounter:89992\n"
     ]
    },
    {
     "name": "stderr",
     "output_type": "stream",
     "text": [
      " 43%|████▎     | 32/75 [01:06<01:32,  2.14s/it]"
     ]
    },
    {
     "name": "stdout",
     "output_type": "stream",
     "text": [
      "all data:100000 muti_turn_counter:2473 odd_cov_counter:0 encounter:89872\n"
     ]
    },
    {
     "name": "stderr",
     "output_type": "stream",
     "text": [
      " 44%|████▍     | 33/75 [01:08<01:28,  2.12s/it]"
     ]
    },
    {
     "name": "stdout",
     "output_type": "stream",
     "text": [
      "all data:100000 muti_turn_counter:2450 odd_cov_counter:0 encounter:89868\n"
     ]
    },
    {
     "name": "stderr",
     "output_type": "stream",
     "text": [
      " 45%|████▌     | 34/75 [01:10<01:24,  2.06s/it]"
     ]
    },
    {
     "name": "stdout",
     "output_type": "stream",
     "text": [
      "all data:100000 muti_turn_counter:2472 odd_cov_counter:0 encounter:89960\n"
     ]
    },
    {
     "name": "stderr",
     "output_type": "stream",
     "text": [
      " 47%|████▋     | 35/75 [01:12<01:19,  2.00s/it]"
     ]
    },
    {
     "name": "stdout",
     "output_type": "stream",
     "text": [
      "all data:100000 muti_turn_counter:2495 odd_cov_counter:0 encounter:89725\n"
     ]
    },
    {
     "name": "stderr",
     "output_type": "stream",
     "text": [
      " 48%|████▊     | 36/75 [01:14<01:21,  2.09s/it]"
     ]
    },
    {
     "name": "stdout",
     "output_type": "stream",
     "text": [
      "all data:100000 muti_turn_counter:2410 odd_cov_counter:0 encounter:89901\n"
     ]
    },
    {
     "name": "stderr",
     "output_type": "stream",
     "text": [
      " 49%|████▉     | 37/75 [01:16<01:17,  2.05s/it]"
     ]
    },
    {
     "name": "stdout",
     "output_type": "stream",
     "text": [
      "all data:100000 muti_turn_counter:2436 odd_cov_counter:0 encounter:89867\n"
     ]
    },
    {
     "name": "stderr",
     "output_type": "stream",
     "text": [
      " 51%|█████     | 38/75 [01:18<01:15,  2.03s/it]"
     ]
    },
    {
     "name": "stdout",
     "output_type": "stream",
     "text": [
      "all data:100000 muti_turn_counter:2446 odd_cov_counter:0 encounter:89772\n"
     ]
    },
    {
     "name": "stderr",
     "output_type": "stream",
     "text": [
      " 52%|█████▏    | 39/75 [01:21<01:18,  2.19s/it]"
     ]
    },
    {
     "name": "stdout",
     "output_type": "stream",
     "text": [
      "all data:100000 muti_turn_counter:2427 odd_cov_counter:1 encounter:89777\n"
     ]
    },
    {
     "name": "stderr",
     "output_type": "stream",
     "text": [
      " 53%|█████▎    | 40/75 [01:23<01:14,  2.14s/it]"
     ]
    },
    {
     "name": "stdout",
     "output_type": "stream",
     "text": [
      "all data:100000 muti_turn_counter:2529 odd_cov_counter:0 encounter:89966\n"
     ]
    },
    {
     "name": "stderr",
     "output_type": "stream",
     "text": [
      " 55%|█████▍    | 41/75 [01:25<01:11,  2.10s/it]"
     ]
    },
    {
     "name": "stdout",
     "output_type": "stream",
     "text": [
      "all data:100000 muti_turn_counter:2400 odd_cov_counter:1 encounter:90082\n"
     ]
    },
    {
     "name": "stderr",
     "output_type": "stream",
     "text": [
      " 56%|█████▌    | 42/75 [01:27<01:10,  2.14s/it]"
     ]
    },
    {
     "name": "stdout",
     "output_type": "stream",
     "text": [
      "all data:100000 muti_turn_counter:2474 odd_cov_counter:1 encounter:89937\n"
     ]
    },
    {
     "name": "stderr",
     "output_type": "stream",
     "text": [
      " 57%|█████▋    | 43/75 [01:29<01:06,  2.08s/it]"
     ]
    },
    {
     "name": "stdout",
     "output_type": "stream",
     "text": [
      "all data:100000 muti_turn_counter:2436 odd_cov_counter:0 encounter:89855\n"
     ]
    },
    {
     "name": "stderr",
     "output_type": "stream",
     "text": [
      " 59%|█████▊    | 44/75 [01:31<01:04,  2.09s/it]"
     ]
    },
    {
     "name": "stdout",
     "output_type": "stream",
     "text": [
      "all data:100000 muti_turn_counter:2476 odd_cov_counter:0 encounter:89846\n"
     ]
    },
    {
     "name": "stderr",
     "output_type": "stream",
     "text": [
      " 60%|██████    | 45/75 [01:33<01:03,  2.11s/it]"
     ]
    },
    {
     "name": "stdout",
     "output_type": "stream",
     "text": [
      "all data:100000 muti_turn_counter:2368 odd_cov_counter:0 encounter:89985\n"
     ]
    },
    {
     "name": "stderr",
     "output_type": "stream",
     "text": [
      " 61%|██████▏   | 46/75 [01:35<01:00,  2.09s/it]"
     ]
    },
    {
     "name": "stdout",
     "output_type": "stream",
     "text": [
      "all data:100000 muti_turn_counter:2393 odd_cov_counter:0 encounter:90007\n"
     ]
    },
    {
     "name": "stderr",
     "output_type": "stream",
     "text": [
      " 63%|██████▎   | 47/75 [01:37<00:57,  2.06s/it]"
     ]
    },
    {
     "name": "stdout",
     "output_type": "stream",
     "text": [
      "all data:100000 muti_turn_counter:2375 odd_cov_counter:0 encounter:89904\n"
     ]
    },
    {
     "name": "stderr",
     "output_type": "stream",
     "text": [
      " 64%|██████▍   | 48/75 [01:39<00:56,  2.08s/it]"
     ]
    },
    {
     "name": "stdout",
     "output_type": "stream",
     "text": [
      "all data:100000 muti_turn_counter:2459 odd_cov_counter:0 encounter:89898\n"
     ]
    },
    {
     "name": "stderr",
     "output_type": "stream",
     "text": [
      " 65%|██████▌   | 49/75 [01:41<00:55,  2.12s/it]"
     ]
    },
    {
     "name": "stdout",
     "output_type": "stream",
     "text": [
      "all data:100000 muti_turn_counter:2464 odd_cov_counter:0 encounter:89885\n"
     ]
    },
    {
     "name": "stderr",
     "output_type": "stream",
     "text": [
      " 67%|██████▋   | 50/75 [01:44<00:52,  2.12s/it]"
     ]
    },
    {
     "name": "stdout",
     "output_type": "stream",
     "text": [
      "all data:100000 muti_turn_counter:2393 odd_cov_counter:0 encounter:90051\n"
     ]
    },
    {
     "name": "stderr",
     "output_type": "stream",
     "text": [
      " 68%|██████▊   | 51/75 [01:46<00:49,  2.07s/it]"
     ]
    },
    {
     "name": "stdout",
     "output_type": "stream",
     "text": [
      "all data:100000 muti_turn_counter:2539 odd_cov_counter:0 encounter:89856\n"
     ]
    },
    {
     "name": "stderr",
     "output_type": "stream",
     "text": [
      " 69%|██████▉   | 52/75 [01:48<00:47,  2.07s/it]"
     ]
    },
    {
     "name": "stdout",
     "output_type": "stream",
     "text": [
      "all data:100000 muti_turn_counter:2411 odd_cov_counter:0 encounter:90042\n"
     ]
    },
    {
     "name": "stderr",
     "output_type": "stream",
     "text": [
      " 71%|███████   | 53/75 [01:50<00:48,  2.20s/it]"
     ]
    },
    {
     "name": "stdout",
     "output_type": "stream",
     "text": [
      "all data:100000 muti_turn_counter:2391 odd_cov_counter:0 encounter:90059\n"
     ]
    },
    {
     "name": "stderr",
     "output_type": "stream",
     "text": [
      " 72%|███████▏  | 54/75 [01:52<00:45,  2.15s/it]"
     ]
    },
    {
     "name": "stdout",
     "output_type": "stream",
     "text": [
      "all data:100000 muti_turn_counter:2406 odd_cov_counter:0 encounter:90021\n"
     ]
    },
    {
     "name": "stderr",
     "output_type": "stream",
     "text": [
      " 73%|███████▎  | 55/75 [01:54<00:41,  2.08s/it]"
     ]
    },
    {
     "name": "stdout",
     "output_type": "stream",
     "text": [
      "all data:100000 muti_turn_counter:2440 odd_cov_counter:0 encounter:89913\n"
     ]
    },
    {
     "name": "stderr",
     "output_type": "stream",
     "text": [
      " 75%|███████▍  | 56/75 [01:55<00:33,  1.77s/it]"
     ]
    },
    {
     "name": "stdout",
     "output_type": "stream",
     "text": [
      "all data:49106 muti_turn_counter:1191 odd_cov_counter:0 encounter:44031\n"
     ]
    },
    {
     "name": "stderr",
     "output_type": "stream",
     "text": [
      " 76%|███████▌  | 57/75 [01:57<00:33,  1.88s/it]"
     ]
    },
    {
     "name": "stdout",
     "output_type": "stream",
     "text": [
      "all data:100000 muti_turn_counter:2445 odd_cov_counter:0 encounter:90046\n"
     ]
    },
    {
     "name": "stderr",
     "output_type": "stream",
     "text": [
      " 77%|███████▋  | 58/75 [02:00<00:34,  2.02s/it]"
     ]
    },
    {
     "name": "stdout",
     "output_type": "stream",
     "text": [
      "all data:100000 muti_turn_counter:2433 odd_cov_counter:0 encounter:90001\n"
     ]
    },
    {
     "name": "stderr",
     "output_type": "stream",
     "text": [
      " 79%|███████▊  | 59/75 [02:02<00:32,  2.04s/it]"
     ]
    },
    {
     "name": "stdout",
     "output_type": "stream",
     "text": [
      "all data:100000 muti_turn_counter:2483 odd_cov_counter:0 encounter:89768\n"
     ]
    },
    {
     "name": "stderr",
     "output_type": "stream",
     "text": [
      " 80%|████████  | 60/75 [02:04<00:30,  2.01s/it]"
     ]
    },
    {
     "name": "stdout",
     "output_type": "stream",
     "text": [
      "all data:100000 muti_turn_counter:2360 odd_cov_counter:0 encounter:90090\n"
     ]
    },
    {
     "name": "stderr",
     "output_type": "stream",
     "text": [
      " 81%|████████▏ | 61/75 [02:06<00:28,  2.02s/it]"
     ]
    },
    {
     "name": "stdout",
     "output_type": "stream",
     "text": [
      "all data:100000 muti_turn_counter:2463 odd_cov_counter:0 encounter:89824\n"
     ]
    },
    {
     "name": "stderr",
     "output_type": "stream",
     "text": [
      " 83%|████████▎ | 62/75 [02:08<00:26,  2.03s/it]"
     ]
    },
    {
     "name": "stdout",
     "output_type": "stream",
     "text": [
      "all data:100000 muti_turn_counter:2473 odd_cov_counter:0 encounter:89826\n"
     ]
    },
    {
     "name": "stderr",
     "output_type": "stream",
     "text": [
      " 84%|████████▍ | 63/75 [02:10<00:25,  2.15s/it]"
     ]
    },
    {
     "name": "stdout",
     "output_type": "stream",
     "text": [
      "all data:100000 muti_turn_counter:2439 odd_cov_counter:0 encounter:90171\n"
     ]
    },
    {
     "name": "stderr",
     "output_type": "stream",
     "text": [
      " 85%|████████▌ | 64/75 [02:12<00:23,  2.11s/it]"
     ]
    },
    {
     "name": "stdout",
     "output_type": "stream",
     "text": [
      "all data:100000 muti_turn_counter:2436 odd_cov_counter:1 encounter:89753\n"
     ]
    },
    {
     "name": "stderr",
     "output_type": "stream",
     "text": [
      " 87%|████████▋ | 65/75 [02:14<00:20,  2.07s/it]"
     ]
    },
    {
     "name": "stdout",
     "output_type": "stream",
     "text": [
      "all data:100000 muti_turn_counter:2421 odd_cov_counter:0 encounter:89917\n"
     ]
    },
    {
     "name": "stderr",
     "output_type": "stream",
     "text": [
      " 88%|████████▊ | 66/75 [02:16<00:18,  2.04s/it]"
     ]
    },
    {
     "name": "stdout",
     "output_type": "stream",
     "text": [
      "all data:100000 muti_turn_counter:2488 odd_cov_counter:0 encounter:89819\n"
     ]
    },
    {
     "name": "stderr",
     "output_type": "stream",
     "text": [
      " 89%|████████▉ | 67/75 [02:19<00:17,  2.16s/it]"
     ]
    },
    {
     "name": "stdout",
     "output_type": "stream",
     "text": [
      "all data:100000 muti_turn_counter:2464 odd_cov_counter:0 encounter:89765\n"
     ]
    },
    {
     "name": "stderr",
     "output_type": "stream",
     "text": [
      " 91%|█████████ | 68/75 [02:21<00:14,  2.10s/it]"
     ]
    },
    {
     "name": "stdout",
     "output_type": "stream",
     "text": [
      "all data:100000 muti_turn_counter:2477 odd_cov_counter:0 encounter:90004\n"
     ]
    },
    {
     "name": "stderr",
     "output_type": "stream",
     "text": [
      " 92%|█████████▏| 69/75 [02:22<00:12,  2.03s/it]"
     ]
    },
    {
     "name": "stdout",
     "output_type": "stream",
     "text": [
      "all data:100000 muti_turn_counter:2400 odd_cov_counter:0 encounter:90014\n"
     ]
    },
    {
     "name": "stderr",
     "output_type": "stream",
     "text": [
      " 93%|█████████▎| 70/75 [02:24<00:10,  2.00s/it]"
     ]
    },
    {
     "name": "stdout",
     "output_type": "stream",
     "text": [
      "all data:100000 muti_turn_counter:2446 odd_cov_counter:0 encounter:89981\n"
     ]
    },
    {
     "name": "stderr",
     "output_type": "stream",
     "text": [
      " 95%|█████████▍| 71/75 [02:26<00:08,  2.02s/it]"
     ]
    },
    {
     "name": "stdout",
     "output_type": "stream",
     "text": [
      "all data:100000 muti_turn_counter:2398 odd_cov_counter:0 encounter:89980\n"
     ]
    },
    {
     "name": "stderr",
     "output_type": "stream",
     "text": [
      " 96%|█████████▌| 72/75 [02:29<00:06,  2.12s/it]"
     ]
    },
    {
     "name": "stdout",
     "output_type": "stream",
     "text": [
      "all data:100000 muti_turn_counter:2485 odd_cov_counter:0 encounter:89701\n"
     ]
    },
    {
     "name": "stderr",
     "output_type": "stream",
     "text": [
      " 97%|█████████▋| 73/75 [02:31<00:04,  2.09s/it]"
     ]
    },
    {
     "name": "stdout",
     "output_type": "stream",
     "text": [
      "all data:100000 muti_turn_counter:2431 odd_cov_counter:0 encounter:89981\n"
     ]
    },
    {
     "name": "stderr",
     "output_type": "stream",
     "text": [
      " 99%|█████████▊| 74/75 [02:33<00:02,  2.07s/it]"
     ]
    },
    {
     "name": "stdout",
     "output_type": "stream",
     "text": [
      "all data:100000 muti_turn_counter:2498 odd_cov_counter:0 encounter:89905\n"
     ]
    },
    {
     "name": "stderr",
     "output_type": "stream",
     "text": [
      "100%|██████████| 75/75 [02:35<00:00,  2.07s/it]"
     ]
    },
    {
     "name": "stdout",
     "output_type": "stream",
     "text": [
      "all data:100000 muti_turn_counter:2421 odd_cov_counter:0 encounter:90054\n",
      "751313\n",
      "751313\n"
     ]
    },
    {
     "name": "stderr",
     "output_type": "stream",
     "text": [
      "\n"
     ]
    }
   ],
   "source": [
    "\n",
    "def to_alpaca_data(str_json_data):\n",
    "    return {\n",
    "                \"instruction\": str_json_data[-2][\"value\"],\n",
    "                \"input\": \"\",\n",
    "                \"output\": str_json_data[-1][\"value\"]\n",
    "            }\n",
    "\n",
    "def to_share_gpt_data(str_json_data):\n",
    "    conversations = str_json_data.tolist()\n",
    "    text = \"\"\n",
    "    for item in conversations:\n",
    "        text += item[\"value\"]\n",
    "    return {\n",
    "        \"conversations\": conversations\n",
    "    }, text\n",
    "\n",
    "def process_one_data(file_dir):\n",
    "    table = pq.read_table(file_dir)\n",
    "    df = table.to_pandas()\n",
    "    # Index(['id', 'conversations', 'label', 'langdetect', 'source'], dtype='object')\n",
    "    # print(df.columns)\n",
    "    # 可以过滤=======================\n",
    "    # need_idx = df[\"langdetect\"] == \"zh-cn\"\n",
    "    # df = df.loc[need_idx, :]\n",
    "    #===============================\n",
    "    str_json_datas = df[\"conversations\"]\n",
    "    language_datas = df[\"langdetect\"]\n",
    "    muti_turn_counter = 0\n",
    "    odd_cov_counter = 0\n",
    "    encounter = 0\n",
    "    a_file_datas = []\n",
    "    text_list = []\n",
    "    for idx, str_json_data in  enumerate(str_json_datas):\n",
    "        L = len(str_json_data)\n",
    "        #! 过滤中文\n",
    "        if language_datas.iloc[idx] != \"zh-cn\":\n",
    "            encounter += 1\n",
    "            continue\n",
    "        #! 过滤多轮对话\n",
    "        if L > 2:\n",
    "            muti_turn_counter += 1\n",
    "        if L % 2 == 1:\n",
    "            odd_cov_counter += 1\n",
    "        # a_file_datas.append(to_alpaca_data(str_json_data)) \n",
    "        conversation, text= to_share_gpt_data(str_json_data)\n",
    "        text_list.append(text)\n",
    "        a_file_datas.append(conversation)\n",
    "    \n",
    "    input_ids = tokenizer(text_list)['input_ids']\n",
    "    token_num_list = [len(x) for x in input_ids]\n",
    "    print(f\"all data:{len(str_json_datas)} muti_turn_counter:{muti_turn_counter} odd_cov_counter:{odd_cov_counter} encounter:{encounter}\")\n",
    "    return a_file_datas,token_num_list\n",
    "\n",
    "all_datas = []\n",
    "token_nums = []\n",
    "for file_dir in tqdm(all_files):\n",
    "    datas,token_num_list = process_one_data(file_dir) \n",
    "    all_datas.extend(datas) \n",
    "    token_nums.extend(token_num_list)\n",
    "print(len(all_datas))\n",
    "print(len(token_nums))"
   ]
  },
  {
   "cell_type": "markdown",
   "metadata": {},
   "source": [
    "# 统计分位数，过滤过长的样本"
   ]
  },
  {
   "cell_type": "code",
   "execution_count": 4,
   "metadata": {},
   "outputs": [
    {
     "name": "stdout",
     "output_type": "stream",
     "text": [
      "[ 252.  281.  317.  368.  474.  666. 1692.]\n",
      "[247. 274. 306. 349. 423. 504. 679.]\n",
      "722236\n"
     ]
    }
   ],
   "source": [
    "import numpy as np\n",
    "np.percentile(token_nums,[50, 60, 70, 80, 90,95,99])\n",
    "print(np.percentile(token_nums,[50, 60, 70, 80, 90,95, 99]))\n",
    "filtered_long_data = []\n",
    "filtered_token_num = []\n",
    "for i in range(len(all_datas)):\n",
    "    if token_nums[i] < 768:\n",
    "        filtered_long_data.append(all_datas[i])\n",
    "        filtered_token_num.append(token_nums[i])\n",
    "print(np.percentile(filtered_token_num,[50, 60, 70, 80, 90,95, 99]))\n",
    "print(len(filtered_token_num))"
   ]
  },
  {
   "cell_type": "code",
   "execution_count": 6,
   "metadata": {},
   "outputs": [
    {
     "name": "stdout",
     "output_type": "stream",
     "text": [
      "目录/DATA/disk2/yuhang/.cache/steel_dataset/sft_data/llamafactory_input 已存在\n"
     ]
    }
   ],
   "source": [
    "import os\n",
    "import os\n",
    "file_path = '/DATA/disk2/yuhang/.cache/steel_dataset/sft_data/llamafactory_input/BAAI_Infinity-Instruct_7M.jsonl'\n",
    "\n",
    "directory = os.path.dirname(file_path)\n",
    "\n",
    "if not os.path.exists(directory):\n",
    "    os.makedirs(directory)\n",
    "    print(f\"目录{directory} 不存在，已创建\")\n",
    "else:\n",
    "    print(f\"目录{directory} 已存在\")\n",
    "\n",
    "with open(file_path, 'w', encoding=\"utf-8\") as f:\n",
    "    for item in filtered_long_data:\n",
    "        json.dump(item, f, ensure_ascii=False)\n",
    "        f.write('\\n')"
   ]
  },
  {
   "cell_type": "code",
   "execution_count": 7,
   "metadata": {},
   "outputs": [
    {
     "name": "stdout",
     "output_type": "stream",
     "text": [
      "<class 'dict'>\n",
      "{'conversations': [{'from': 'human', 'value': \"请从下面的文本中抽取出事件的参数,文本内容以text:<>给出.并按照列表格式输出，列表中每个元素为一个事件对应的字典，例如{'role':'事件','参数':'事件参数'}text:<受损股民可至新浪股民维权平台登记该公司维权：http://wq.finance.sina.com.cn/\\n微博关注@新浪证券、微信关注新浪券商基金、百度搜索新浪股民维权、访问新浪财经客户端、新浪财经首页都能找到我们！\\n新浪财经讯 暂停上市的乐视网(2.690,-0.05,-1.82%)（维权）（300104），2019年10月14日《2019年前三季度业绩预告》发布了“恐怖”的数据：归属于上市公司股东的净利润亏损1，019，710.46万元—1，020，210.46万元，并提醒投资者，公司存在 2019 年全年经审计后归属于上市公司股东的净资产为负的风险。最近又传来贾跃亭在美国申请个人破产重组的消息。（乐视网维权入口）\\n这些消息无疑给受损的股民提起索赔蒙上了阴影。\\n新浪财经上市公司研究院的专业咨询支持单位北京德恒（宁波）律师事务所的高级合伙人张志旺律师对此进行专业解读。\\n张志旺律师介绍，2019 年 5月 13 日起乐视网因为资不抵债（2018年度归母公司净资产为负）而被暂停上市。实际上乐视网在年初，是想避免这结果的发生。2019年1月30日晚披露2018年度业绩预告，称预计亏损6.08亿元至6.13亿元。因为2017年净资产为6.6亿，大于亏损额6.13亿，则2018年净资产避免为负数，站在生死线之上。但乐视网的努力遭到深交所的关注，原因是乐视网认为所持乐融致新（新乐视智家）预计确认投资收益20.99亿元。深交所指出：核实说明是否通过评估值选取及重估收益确认，调节公司净利润、净资产等业绩指标以规避退市风险>\"}, {'from': 'gpt', 'value': \"[{'role': '披露时间', 'argument': '2019年10月14日'}, {'role': '净亏损', 'argument': '1，019，710.46万元—1，020，210.46万元'}, {'role': '财报周期', 'argument': '2019年前三季度'}, {'role': '公司名称', 'argument': '乐视网'}]\"}]}\n"
     ]
    }
   ],
   "source": [
    "# 随机保存7w个数据\n",
    "import random\n",
    "random_data = random.sample(all_datas, 100000)\n",
    "print(type(all_datas[0]))\n",
    "import json\n",
    "print(all_datas[0])\n",
    "json_dir = \"/DATA/disk2/yuhang/.cache/steel_dataset/sft_data/llamafactory_input/BAAI_Infinity-Instruct_7M_10W.jsonl\"\n",
    "with open(json_dir, \"w\") as file:\n",
    "    json.dump(all_datas, file)"
   ]
  },
  {
   "cell_type": "code",
   "execution_count": 8,
   "metadata": {},
   "outputs": [],
   "source": [
    "import json\n",
    "with open(\"/DATA/disk2/yuhang/.cache/steel_dataset/sft_data/llamafactory_input/BAAI_Infinity-Instruct_7M_10W.jsonl\", \"r\") as file:\n",
    "    read_data = json.load(file)"
   ]
  }
 ],
 "metadata": {
  "kernelspec": {
   "display_name": "transformers",
   "language": "python",
   "name": "python3"
  },
  "language_info": {
   "codemirror_mode": {
    "name": "ipython",
    "version": 3
   },
   "file_extension": ".py",
   "mimetype": "text/x-python",
   "name": "python",
   "nbconvert_exporter": "python",
   "pygments_lexer": "ipython3",
   "version": "3.12.9"
  }
 },
 "nbformat": 4,
 "nbformat_minor": 2
}
