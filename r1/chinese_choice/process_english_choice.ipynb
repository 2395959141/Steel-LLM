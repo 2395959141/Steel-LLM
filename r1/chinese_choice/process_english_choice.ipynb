{
 "cells": [
  {
   "cell_type": "code",
   "execution_count": 8,
   "metadata": {},
   "outputs": [],
   "source": [
    "from glob import glob\n",
    "import pandas as pd\n",
    "from tqdm import tqdm\n",
    "import os\n",
    "import json\n",
    "import pyarrow.parquet as pq\n",
    "import random"
   ]
  },
  {
   "cell_type": "code",
   "execution_count": null,
   "metadata": {},
   "outputs": [
    {
     "name": "stdout",
     "output_type": "stream",
     "text": [
      "11914\n"
     ]
    }
   ],
   "source": [
    "# openbookqa\n",
    "# https://huggingface.co/datasets/allenai/openbookqa\n",
    "def format_choices(question, choice_list, answer, answer_idx):\n",
    "    # example = (\n",
    "    #     \"The following is a multiple-choice question. Please choose the most suitable one among A, B, C and D as the answer to this question.\\n\\n\"\n",
    "    #     + question\n",
    "    #     + \"\\n\"\n",
    "    # )\n",
    "    example = f'Please think step by step about each option of the following multiple-choice question, and then provide the final answer.\\n\\nMultiple-choice question:\\n{question}\\n'\n",
    "    for idx, choice in enumerate([\"A\", \"B\", \"C\", \"D\"]):\n",
    "        example += f'{choice}. {choice_list[idx]}\\n'\n",
    "    ouput = answer\n",
    "    return example, ouput\n",
    "\n",
    "openbookqa_all_data = []\n",
    "openbookqa_root_dir = \"/xxx/openbookqa\"\n",
    "file_list = [\"main/train-00000-of-00001.parquet\",\"main/test-00000-of-00001.parquet\",\"main/validation-00000-of-00001.parquet\",\n",
    "    \"additional/train-00000-of-00001.parquet\",\"additional/test-00000-of-00001.parquet\",\"additional/validation-00000-of-00001.parquet\"]\n",
    "\n",
    "all_data = []\n",
    "idx = 0\n",
    "data_source = \"openbookqa\"\n",
    "for half_file_dir in file_list:\n",
    "    file_dir = os.path.join(openbookqa_root_dir, half_file_dir)\n",
    "    table = pq.read_table(file_dir)\n",
    "    df = table.to_pandas()\n",
    "    for i in range(len(df)):\n",
    "        question = df.iloc[i][\"question_stem\"]\n",
    "        answer = df.iloc[i][\"answerKey\"]\n",
    "        choice_list = df.iloc[i][\"choices\"][\"text\"]\n",
    "        answer_idx = ord(answer) - ord('A')\n",
    "        example, final_answer = format_choices(question, choice_list, answer, answer_idx) \n",
    "        data = {\n",
    "        \"data_source\": data_source,\n",
    "        \"prompt\": [{\n",
    "            \"role\": \"user\",\n",
    "            \"content\": example\n",
    "        }],\n",
    "        \"ability\": \"math\",\n",
    "        \"reward_model\": {\n",
    "            \"style\": \"rule\",\n",
    "            \"ground_truth\": final_answer\n",
    "        },\n",
    "        \"extra_info\": {\n",
    "            # 后边处理\n",
    "            'split': None,\n",
    "            'index': idx,\n",
    "            'choice_list': choice_list,\n",
    "        }\n",
    "        }\n",
    "        idx += 1\n",
    "        all_data.append(data)\n",
    "print(len(all_data))\n",
    "        "
   ]
  },
  {
   "cell_type": "code",
   "execution_count": null,
   "metadata": {},
   "outputs": [
    {
     "name": "stdout",
     "output_type": "stream",
     "text": [
      "data_source                                            openbookqa\n",
      "prompt          [{'role': 'user', 'content': 'Please think ste...\n",
      "ability                                                      math\n",
      "reward_model               {'style': 'rule', 'ground_truth': 'A'}\n",
      "extra_info      {'split': 'train', 'index': 11117, 'choice_lis...\n",
      "Name: 0, dtype: object\n",
      "8000\n"
     ]
    }
   ],
   "source": [
    "# 随机打乱\n",
    "random.seed(42)\n",
    "random.shuffle(all_data)\n",
    "train_data_num = 8000\n",
    "test_data_num = 1000\n",
    "test_data_50_num = 50\n",
    "train_data = all_data[:train_data_num]\n",
    "test_data = all_data[train_data_num:train_data_num + test_data_num]\n",
    "test_data_50 = all_data[train_data_num + test_data_num:train_data_num + test_data_num + test_data_50_num]\n",
    "for d in train_data:\n",
    "    d[\"extra_info\"][\"split\"] = \"train\"\n",
    "for d in test_data:\n",
    "    d[\"extra_info\"][\"split\"] = \"test\"\n",
    "# 保存成parquet格式\n",
    "train_df = pd.DataFrame(train_data)\n",
    "test_df = pd.DataFrame(test_data)\n",
    "test_50_df = pd.DataFrame(test_data_50)\n",
    "print(train_df.iloc[0])\n",
    "print(len(train_df))\n",
    "train_df.to_parquet(\"/xxx/openbookqa/openbookqa_train.parquet\")\n",
    "test_df.to_parquet(\"/xxx/openbookqa/openbookqa_test.parquet\")\n",
    "test_50_df.to_parquet(\"/xxx/openbookqa/openbookqa_test_50.parquet\")"
   ]
  },
  {
   "cell_type": "code",
   "execution_count": null,
   "metadata": {},
   "outputs": [
    {
     "name": "stdout",
     "output_type": "stream",
     "text": [
      "[{'content': 'Please think step by step about each option of the following multiple-choice question, and then provide the final answer.\\n\\nMultiple-choice question:\\nPhotosynthesis means plants are unable to\\nA. convert sunlight to sand\\nB. provide food sources for others\\nC. be producers in an ecosystem\\nD. make their own food\\n', 'role': 'user'}]\n"
     ]
    }
   ],
   "source": [
    "a = pd.read_parquet(\"/xxx/openbookqa/openbookqa_train.parquet\")\n",
    "print(a.iloc[0][\"extra_info\"])"
   ]
  }
 ],
 "metadata": {
  "kernelspec": {
   "display_name": "pytorch_2",
   "language": "python",
   "name": "python3"
  },
  "language_info": {
   "codemirror_mode": {
    "name": "ipython",
    "version": 3
   },
   "file_extension": ".py",
   "mimetype": "text/x-python",
   "name": "python",
   "nbconvert_exporter": "python",
   "pygments_lexer": "ipython3",
   "version": "3.10.15"
  }
 },
 "nbformat": 4,
 "nbformat_minor": 2
}
