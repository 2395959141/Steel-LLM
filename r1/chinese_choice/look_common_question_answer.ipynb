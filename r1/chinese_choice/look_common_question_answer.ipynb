{
 "cells": [
  {
   "cell_type": "code",
   "execution_count": 2,
   "id": "793e5ee6",
   "metadata": {},
   "outputs": [
    {
     "name": "stderr",
     "output_type": "stream",
     "text": [
      "/data/application/anaconda3/envs/pytorch_2/lib/python3.10/site-packages/tqdm/auto.py:21: TqdmWarning: IProgress not found. Please update jupyter and ipywidgets. See https://ipywidgets.readthedocs.io/en/stable/user_install.html\n",
      "  from .autonotebook import tqdm as notebook_tqdm\n"
     ]
    }
   ],
   "source": [
    "import pandas as pd\n",
    "import numpy as np\n",
    "from transformers import AutoModelForCausalLM, AutoTokenizer\n",
    "np.random.seed(42)\n",
    "import torch"
   ]
  },
  {
   "cell_type": "code",
   "execution_count": null,
   "id": "d2c47217",
   "metadata": {},
   "outputs": [],
   "source": [
    "DATA_DIR = \"/xxx/science-dataset/data/train-00000-of-00001-2fe71122e39b8e2d.parquet\"\n",
    "parquet_data = pd.read_parquet(DATA_DIR)[[\"question\", \"correct_answer\", \"support\"]]\n",
    "sampled_parquest_data = parquet_data.sample(100, random_state=42)\n"
   ]
  },
  {
   "cell_type": "code",
   "execution_count": null,
   "id": "ce2a50f8",
   "metadata": {},
   "outputs": [],
   "source": [
    "model_base_dir = \"/xxx/qwen-25-1_5b\"\n",
    "model_r1_dir = \"/xxx/openbookqa_rollout8_8k_ent1e4/global_step_620/actor/huggingface\"\n",
    "model_gsm8k_dir = \"/xxx/verl_grpo_example_gsm8k_3/qwen25_1_5b_firstry_10epoch/global_step_580/actor/huggingface\"\n"
   ]
  },
  {
   "cell_type": "code",
   "execution_count": 5,
   "id": "1251b33a",
   "metadata": {},
   "outputs": [
    {
     "name": "stderr",
     "output_type": "stream",
     "text": [
      "Sliding Window Attention is enabled but not implemented for `sdpa`; unexpected results may be encountered.\n"
     ]
    }
   ],
   "source": [
    "model_base = AutoModelForCausalLM.from_pretrained(\n",
    "    model_base_dir,\n",
    "    torch_dtype=torch.bfloat16,\n",
    "    device_map= \"cuda:1\"\n",
    ")\n",
    "model_r1 = AutoModelForCausalLM.from_pretrained(\n",
    "    model_r1_dir,\n",
    "    torch_dtype=torch.bfloat16,\n",
    "    device_map= \"cuda:1\"\n",
    ")\n",
    "model_gsm8k = AutoModelForCausalLM.from_pretrained(\n",
    "    model_gsm8k_dir,\n",
    "    torch_dtype=torch.bfloat16,\n",
    "    device_map= \"cuda:1\"\n",
    ")\n",
    "tokenizer = AutoTokenizer.from_pretrained(model_base_dir)"
   ]
  },
  {
   "cell_type": "code",
   "execution_count": 7,
   "id": "559ddcbd",
   "metadata": {},
   "outputs": [
    {
     "name": "stdout",
     "output_type": "stream",
     "text": [
      "0 178 375 204\n",
      "1 304 222 224\n",
      "2 106 174 146\n",
      "3 431 325 205\n",
      "4 306 318 340\n",
      "5 393 308 265\n",
      "6 307 258 176\n",
      "7 130 328 221\n",
      "8 368 255 169\n",
      "9 478 379 309\n",
      "10 148 322 241\n",
      "11 80 227 330\n",
      "12 324 265 246\n",
      "13 417 362 334\n",
      "14 301 93 272\n",
      "15 311 286 191\n",
      "16 240 383 233\n",
      "17 206 287 253\n",
      "18 358 357 205\n",
      "19 308 295 200\n",
      "20 363 293 297\n",
      "21 282 250 223\n",
      "22 234 439 243\n",
      "23 300 256 244\n",
      "24 208 263 194\n",
      "25 291 496 194\n",
      "26 380 341 326\n",
      "27 13 105 139\n",
      "28 347 197 262\n",
      "29 374 414 309\n",
      "30 142 231 284\n",
      "31 506 429 225\n",
      "32 205 308 256\n",
      "33 300 452 313\n",
      "34 71 167 216\n",
      "35 364 358 360\n",
      "36 51 65 211\n",
      "37 321 359 218\n",
      "38 307 250 305\n",
      "39 81 71 139\n",
      "40 223 280 249\n",
      "41 146 231 184\n",
      "42 16 291 192\n",
      "43 366 349 312\n",
      "44 166 131 293\n",
      "45 456 350 260\n",
      "46 326 144 307\n",
      "47 88 205 63\n",
      "48 160 287 220\n",
      "49 73 229 197\n",
      "50 254 240 307\n",
      "51 347 317 299\n",
      "52 306 368 293\n",
      "53 208 262 138\n",
      "54 25 177 123\n",
      "55 15 226 146\n",
      "56 266 314 263\n",
      "57 320 326 309\n",
      "58 262 227 202\n",
      "59 62 240 64\n",
      "60 569 525 251\n",
      "61 340 365 268\n",
      "62 63 224 71\n",
      "63 549 415 352\n",
      "64 310 312 252\n",
      "65 344 348 253\n",
      "66 238 300 228\n",
      "67 299 343 340\n",
      "68 556 346 325\n",
      "69 431 257 174\n",
      "70 198 249 208\n",
      "71 430 375 289\n",
      "72 458 431 230\n",
      "73 407 364 290\n",
      "74 241 264 349\n",
      "75 249 264 231\n",
      "76 238 454 225\n",
      "77 484 502 261\n",
      "78 218 196 216\n",
      "79 418 281 293\n",
      "80 273 327 280\n",
      "81 408 443 283\n",
      "82 174 215 117\n",
      "83 272 286 218\n",
      "84 387 280 277\n",
      "85 417 314 304\n",
      "86 49 49 128\n",
      "87 288 226 191\n",
      "88 287 381 103\n",
      "89 208 139 162\n",
      "90 275 263 263\n",
      "91 138 323 235\n",
      "92 457 211 217\n",
      "93 202 210 342\n",
      "94 77 197 163\n",
      "95 246 188 135\n",
      "96 272 289 314\n",
      "97 184 191 132\n",
      "98 232 21 109\n",
      "99 547 256 293\n"
     ]
    }
   ],
   "source": [
    "prompt = \"Think about the following questions step by step.\\n question:\\n {}\"\n",
    "all_data = []\n",
    "T = 0.6\n",
    "MAX_LEN = 1024\n",
    "for i in range(len(sampled_parquest_data)):\n",
    "    question = sampled_parquest_data.iloc[i][\"question\"]\n",
    "    support = sampled_parquest_data.iloc[i][\"support\"]\n",
    "    correct_answer = sampled_parquest_data.iloc[i][\"correct_answer\"]\n",
    "    messages = [\n",
    "    {\"role\": \"system\", \"content\": \"You are Qwen, created by Alibaba Cloud. You are a helpful assistant.\"},\n",
    "    {\"role\": \"user\", \"content\": prompt.format(question)}\n",
    "    ]\n",
    "    text = tokenizer.apply_chat_template(\n",
    "        messages,\n",
    "        tokenize=False,\n",
    "        add_generation_prompt=True\n",
    "    )\n",
    "    model_inputs = tokenizer([text], return_tensors=\"pt\").to(model_base.device)\n",
    "\n",
    "    generated_ids_base = model_base.generate(\n",
    "        **model_inputs,\n",
    "        max_new_tokens=MAX_LEN,\n",
    "        temperature=T,\n",
    "    )\n",
    "    generated_ids_base = [\n",
    "        output_ids[len(input_ids):] for input_ids, output_ids in zip(model_inputs.input_ids, generated_ids_base)\n",
    "    ]\n",
    "\n",
    "    response_base = tokenizer.batch_decode(generated_ids_base, skip_special_tokens=True)[0]\n",
    "    # print(\"response_base:\",response_base, len(generated_ids_base[0]))\n",
    "    #=================================\n",
    "    generated_ids_r1 = model_r1.generate(\n",
    "        **model_inputs,\n",
    "        max_new_tokens=MAX_LEN,\n",
    "        temperature=T,\n",
    "        repetition_penalty=1.1\n",
    "    )\n",
    "    generated_ids_r1 = [\n",
    "        output_ids[len(input_ids):] for input_ids, output_ids in zip(model_inputs.input_ids, generated_ids_r1)\n",
    "    ]\n",
    "    response_r1 = tokenizer.batch_decode(generated_ids_r1, skip_special_tokens=True)[0]\n",
    "    # print(\"response_r1:\",response_r1,len(generated_ids_r1[0]))\n",
    "    #=================================\n",
    "    generated_ids_gsm8k = model_gsm8k.generate(\n",
    "        **model_inputs,\n",
    "        max_new_tokens=MAX_LEN,\n",
    "        temperature=T,\n",
    "        repetition_penalty=1.1\n",
    "    )\n",
    "    generated_ids_gsm8k = [\n",
    "        output_ids[len(input_ids):] for input_ids, output_ids in zip(model_inputs.input_ids, generated_ids_gsm8k)\n",
    "    ]\n",
    "    response_gsm8k = tokenizer.batch_decode(generated_ids_gsm8k, skip_special_tokens=True)[0]\n",
    "    #print(\"response_gsm8k:\",response_gsm8k,len(generated_ids_gsm8k[0]))\n",
    "    all_data.append([question, support, correct_answer, response_base, response_r1, response_gsm8k,\n",
    "                     len(generated_ids_base[0]), len(generated_ids_r1[0]), len(generated_ids_gsm8k[0])])\n",
    "    print(i, len(generated_ids_base[0]), len(generated_ids_r1[0]), len(generated_ids_gsm8k[0]))\n",
    "    # print(\"=\"*20)\n",
    "    # if i > 4:break "
   ]
  },
  {
   "cell_type": "code",
   "execution_count": 8,
   "id": "28b0cab0",
   "metadata": {},
   "outputs": [
    {
     "name": "stdout",
     "output_type": "stream",
     "text": [
      "['What part of a plant protects the plant cell, maintains its shape, and prevents excessive uptake of water?', '', 'wall', \"To answer this question, let's break it down into parts:\\n\\n1. **Protecting the Plant Cell:**\\n   - The primary component that provides protection for the plant cell is the cell wall.\\n\\n2. **Maintaining Shape:**\\n   - Another important function of the cell wall is to maintain the structural integrity of the plant cells. It helps in providing rigidity and support, which is crucial for maintaining the overall shape of the plant.\\n\\n3. **Preventing Excessive Uptake of Water:**\\n   - The cell wall also plays a role in regulating the movement of substances across the cell membrane. This includes controlling the amount of water that enters or leaves the cell through processes like osmosis and diffusion.\\n\\nTherefore, the part of a plant that performs all these functions—protection, maintenance of shape, and regulation of substance transport—is the **cell wall**.\", \"To answer this question, let's consider each component of a plant cell:\\n\\n1. **Cell Wall**: The primary function of the cell wall is to protect the plant cell from physical damage and environmental stresses such as high pressure or extreme temperatures.\\n\\n2. **Plasma Membrane (Cell Membrane)**: This membrane acts as a barrier between the internal environment of the cell and the external environment. It regulates what enters and exits the cell through processes like diffusion, osmosis, and active transport.\\n\\n3. **Cytoplasm**: The cytoplasm contains various organelles that perform specific functions within the cell. These include mitochondria for energy production, chloroplasts in plants for photosynthesis, and ribosomes for protein synthesis.\\n\\n4. **Vacuoles**: Vacuoles store water, nutrients, waste products, and other substances inside the cell. They help maintain turgor pressure, which is crucial for maintaining the plant’s shape and preventing excessive water loss.\\n\\nNow, considering these components together:\\n\\n- **Protecting the Plant Cell**: The cell wall provides structural support and protection against mechanical stress and pathogens.\\n  \\n- **Maintaining Shape**: The plasma membrane ensures that the cell remains spherical due to turgor pressure, which helps maintain proper shape.\\n\\n- **Preventing Excessive Uptake of Water**: The cell wall also plays a role in regulating water movement into the cell. When the cell is dehydrated, the cell wall contracts slightly, allowing more water to enter; when it is overwatered, the cell wall expands, helping to prevent excessive water intake.\\n\\nGiven these roles, the **cell wall** is the key structure that fulfills all three functions mentioned in the question.\\n\\nTherefore, the part of a plant that protects the plant cell, maintains its shape, and prevents excessive uptake of water is the **cell wall**.\", \"The part of a plant that protects the plant cells, maintains its shape, and prevents excessive uptake of water is the cell wall.\\n\\nHere's how it works:\\n\\n1. **Protection**: The cell wall provides structural support to the plant cell. It helps in maintaining the integrity of the cell membrane and prevents the cell from bursting due to turgor pressure (the force exerted on the cell walls by the contents inside).\\n\\n2. **Shape Maintenance**: The cell wall resists changes in the size of the cell. This ensures that the plant remains in a stable form, which is crucial for proper growth and development.\\n\\n3. **Water Regulation**: The cell wall acts as a barrier against excess water intake. It restricts the movement of water into the cell, helping to maintain the correct balance of water within the plant.\\n\\nIn summary, the cell wall plays a vital role in protecting the plant cells, maintaining their shape, and regulating water uptake, all of which contribute to the overall health and structure of the plant.\", 178, 375, 204]\n"
     ]
    }
   ],
   "source": [
    "print(all_data[0])"
   ]
  },
  {
   "cell_type": "code",
   "execution_count": 18,
   "id": "e33116d8",
   "metadata": {},
   "outputs": [],
   "source": [
    "save_data = pd.DataFrame(all_data, columns=[\"question\", \"support\", \"correct_answer\", \"response_base\", \"response_rl_choice\", \"response_rl_gsm8k\",\n",
    "                                             \"len_base\", \"len_rl_choice\", \"len_rl_gsm8k\"])"
   ]
  },
  {
   "cell_type": "code",
   "execution_count": 19,
   "id": "91c295c3",
   "metadata": {},
   "outputs": [
    {
     "name": "stdout",
     "output_type": "stream",
     "text": [
      "273.52 283.81 235.15\n"
     ]
    }
   ],
   "source": [
    "print(np.mean(save_data[\"len_base\"]), np.mean(save_data[\"len_rl_choice\"]), np.mean(save_data[\"len_rl_gsm8k\"]))"
   ]
  },
  {
   "cell_type": "code",
   "execution_count": null,
   "id": "08a10a2f",
   "metadata": {},
   "outputs": [
    {
     "name": "stdout",
     "output_type": "stream",
     "text": [
      "What part of a plant protects the plant cell, maintains its shape, and prevents excessive uptake of water?\n",
      "==========\n",
      "To determine what part of a plant protects the plant cells, maintains their shape, and prevents excessive uptake of water, let's break down these functions one by one:\n",
      "\n",
      "1. **Protecting Plant Cells:**\n",
      "   - The primary protective layer in plants is the cuticle on the outer surface of leaves and stems. This cuticle acts as a barrier against pathogens, insects, and extreme environmental conditions like high humidity or low temperatures.\n",
      "\n",
      "2. **Maintaining Shape:**\n",
      "   - In most plants, especially woody ones, the main structural support comes from secondary xylem (wood). Secondary xylem provides strength and rigidity to the stem, helping it maintain its upright shape even under heavy loads.\n",
      "\n",
      "3. **Preventing Excessive Uptake of Water:**\n",
      "   - To prevent excessive water absorption, some plants have specialized structures called guard cells in their stomata. Guard cells control the opening and closing of stomata, which regulate gas exchange and water loss through transpiration. When stomata are open, they allow for gas exchange but also facilitate the movement of water vapor out of the leaf, preventing over-hydration.\n",
      "\n",
      "In summary, the key components that protect plant cells, maintain their shape, and prevent excessive water uptake are:\n",
      "\n",
      "- **Cuticle** on the outer surfaces of leaves and stems.\n",
      "- **Secondary xylem** in woody parts of plants.\n",
      "- **Guard cells** in stomata controlling stomatal openings.\n",
      "\n",
      "These elements work together to ensure proper function and survival within the environment.\n",
      "==========\n",
      "The cell wall is located outside the plasma membrane and provides structural support to the cell while also maintaining its shape.\n",
      "\n",
      "Therefore, the answer is cell wall. \n",
      "\n",
      "The cell wall is composed primarily of cellulose microfibrils embedded in a matrix of pectin and hemicelluloses. It forms a rigid barrier around the cell that helps maintain its shape and structure. Additionally, it acts as a physical barrier against pathogens and environmental stresses such as high salinity or extreme temperatures. The cell wall also plays a role in regulating the passage of molecules into and out of the cell through specialized channels called plasmodesmata. Lastly, it contributes to osmoregulation by preventing excessive uptake of water and maintaining turgor pressure within the cell. Overall, the cell wall serves multiple critical functions for plant cells, including protection, maintenance of cell shape, prevention of excessive water uptake, and regulation of cellular processes. \n",
      "\n",
      "This information can be derived from understanding the basic structure and function of plant cells, which involves recognizing key components like the cell wall, plasma membrane, cytoplasm, nucleus, mitochondria, chloroplasts, vacuoles, ribosomes, endoplasmic reticulum, Golgi apparatus, lysosomes, peroxisomes, centrioles, flagella, cilia, and nuclear envelope. Each component has specific roles in supporting cell integrity, facilitating metabolic activities, and responding to external stimuli. For instance, the cell wall's primary function is to provide mechanical strength and rigidity necessary for proper cell morphology and positioning within tissues. This ensures efficient nutrient transport across membranes and facilitates gas exchange between the atmosphere and interior spaces inside plants. Furthermore, the cell wall shields the internal contents from harmful substances entering via pores present on the surface layer of the cell membrane. Thus, these structures collectively contribute significantly towards ensuring survival and growth of organisms inhabiting diverse environments worldwide. Understanding how each element interacts with others allows us to comprehend complex biological systems better. \n",
      "\n",
      "In summary, the cell wall is an essential feature of plant cells due to its multifaceted contributions to overall functionality and stability. Its presence not only supports cell integrity but also influences various physiological processes crucial for plant health and development. Therefore, considering all aspects related to this topic reveals intricate details regarding fundamental principles governing life at molecular level. \n",
      "\n",
      "To summarize:\n",
      "\n",
      "1. **Cell Wall**: Located outside the plasma membrane; provides structural support and maintains cell shape.\n",
      "2. **Plasma Membrane**: Surrounding the cell; regulates substance movement (facilitated diffusion).\n",
      "3. **Cytoplasm**: Contains organelles responsible for metabolism and energy production.\n",
      "4. **Nucleus**: Central repository of genetic material controlling cellular activities.\n",
      "5. **Mitochondria**: Powerhouses generating ATP for energy usage.\n",
      "6. **Chloroplasts**: Photosynthetic sites converting light energy into chemical energy.\n",
      "7. **Vacuole**: Storage compartment containing solutes and waste products.\n",
      "8. **Ribosomes**: Site of protein synthesis.\n",
      "9. **Endoplasmic Reticulum**: Network involved in lipid synthesis and protein processing.\n",
      "10. **Golgi Apparatus**: Modifies proteins and lipids before secretion.\n",
      "11. **Lysosomes**: Digestive compartments breaking down macromolecules.\n",
      "12. **Peroxisomes**: Catalyzes oxidation reactions producing hydrogen peroxide.\n",
      "13. **Centrioles**: Organize mitosis during cell division.\n",
      "14. **Flagella/Cilia**: Movement mechanisms enabling locomotion.\n",
      "15. **Cytoskeleton**: Scaffold network providing mechanical support and cellular organization.\n",
      "\n",
      "Each component works together harmoniously underpinning robustness and adaptability required for thriving ecosystems encompassing terrestrial flora and aquatic fauna alike. Understanding interplay among these elements elucidates profound insights into\n"
     ]
    }
   ],
   "source": [
    "idx = 1\n",
    "print(save_data['question'].iloc[idx])\n",
    "print('='*10)\n",
    "print(save_data['response_base'].iloc[idx])\n",
    "print('='*10)\n",
    "print(save_data[\"response_rl_choice\"].iloc[idx])"
   ]
  },
  {
   "cell_type": "code",
   "execution_count": 20,
   "id": "f18a384e",
   "metadata": {},
   "outputs": [],
   "source": [
    "save_data.to_csv(\"base_rl_response_ent0_penalty1_1_temp06.csv\", index=False)"
   ]
  }
 ],
 "metadata": {
  "kernelspec": {
   "display_name": "pytorch_2",
   "language": "python",
   "name": "python3"
  },
  "language_info": {
   "codemirror_mode": {
    "name": "ipython",
    "version": 3
   },
   "file_extension": ".py",
   "mimetype": "text/x-python",
   "name": "python",
   "nbconvert_exporter": "python",
   "pygments_lexer": "ipython3",
   "version": "3.10.15"
  }
 },
 "nbformat": 4,
 "nbformat_minor": 5
}
