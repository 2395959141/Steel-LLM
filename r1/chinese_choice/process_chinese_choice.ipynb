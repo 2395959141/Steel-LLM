{
 "cells": [
  {
   "cell_type": "code",
   "execution_count": null,
   "metadata": {},
   "outputs": [],
   "source": [
    "from glob import glob\n",
    "import pandas as pd\n",
    "DATA_DIR = \"/xxx/part-003756-a894b46e.jsonl\"\n",
    "from tqdm import tqdm\n",
    "import json\n",
    "import re\n",
    "import random"
   ]
  },
  {
   "cell_type": "code",
   "execution_count": null,
   "metadata": {},
   "outputs": [],
   "source": [
    "def format_example(item, cot=False):\n",
    "    example = item[\"q_main\"] + \"\\n\"\n",
    "    choice_map = {\"A\":\"option_a\", \"B\":\"option_b\", \"C\":\"option_c\", \"D\":\"option_d\"} \n",
    "    choice_list = []\n",
    "    for choice in [\"A\",\"B\",\"C\",\"D\"]:\n",
    "        if item[choice_map[choice]] != \"\":\n",
    "            example += f'{choice}. {item[choice_map[choice]]}\\n'\n",
    "            choice_list.append(item[choice_map[choice]])\n",
    "    answer = item[\"std_ans\"]\n",
    "    if len(choice_list) != 4:\n",
    "        choice_list = None\n",
    "    return example, answer, choice_list\n",
    "\n",
    "all_data = []\n",
    "data_source = \"chinese_choice\"\n",
    "idx = 0\n",
    "instruction = \"请一步步思考以下选择题的每个选项，然后再给出最终答案。\\n\\n 选择题：\\n\"\n",
    "with open(DATA_DIR, 'r') as file:\n",
    "    for _, line in enumerate(file):\n",
    "        # 解码JSON对象\n",
    "        json_obj = json.loads(line)\n",
    "        if json_obj[\"std_ans\"]==\"\":\n",
    "            continue\n",
    "        # 200w数据这块continue\n",
    "        example, answer, choice_list = format_example(json_obj, False)\n",
    "        if choice_list is None:\n",
    "            continue\n",
    "        data = {\n",
    "        \"data_source\": data_source,\n",
    "        \"prompt\": [{\n",
    "            \"role\": \"user\",\n",
    "            \"content\": instruction + example\n",
    "        }],\n",
    "        \"ability\": \"math\",\n",
    "        \"reward_model\": {\n",
    "            \"style\": \"rule\",\n",
    "            \"ground_truth\": answer\n",
    "        },\n",
    "        \"extra_info\": {\n",
    "            # 后边处理\n",
    "            'split': None,\n",
    "            'index': idx,\n",
    "            'choice_list': choice_list,\n",
    "        }\n",
    "        }\n",
    "        idx += 1\n",
    "        all_data.append(data)\n"
   ]
  },
  {
   "cell_type": "code",
   "execution_count": null,
   "metadata": {},
   "outputs": [
    {
     "name": "stdout",
     "output_type": "stream",
     "text": [
      "data_source                                        chinese_choice\n",
      "prompt          [{'role': 'user', 'content': '请一步步思考以下选择题的每个选项...\n",
      "ability                                                      math\n",
      "reward_model               {'style': 'rule', 'ground_truth': 'A'}\n",
      "extra_info      {'split': 'train', 'index': 73431, 'choice_lis...\n",
      "Name: 0, dtype: object\n"
     ]
    }
   ],
   "source": [
    "# 随机打乱\n",
    "random.seed(42)\n",
    "random.shuffle(all_data)\n",
    "train_data_num = 8000\n",
    "test_data_num = 1000\n",
    "test_data_50_num = 50\n",
    "train_data = all_data[:train_data_num]\n",
    "test_data = all_data[train_data_num:train_data_num + test_data_num]\n",
    "test_data_50 = all_data[train_data_num + test_data_num:train_data_num + test_data_num + test_data_50_num]\n",
    "for d in train_data:\n",
    "    d[\"extra_info\"][\"split\"] = \"train\"\n",
    "for d in test_data:\n",
    "    d[\"extra_info\"][\"split\"] = \"test\"\n",
    "# 保存成parquet格式\n",
    "train_df = pd.DataFrame(train_data)\n",
    "test_df = pd.DataFrame(test_data)\n",
    "test_50_df = pd.DataFrame(test_data_50)\n",
    "print(train_df.iloc[0])\n",
    "print(len(train_df))\n",
    "train_df.to_parquet(\"/xxx/wanjuan/wanjuan_exam_train.parquet\")\n",
    "test_df.to_parquet(\"/xxx/wanjuan/wanjuan_exam_test.parquet\")\n",
    "test_50_df.to_parquet(\"/xxx/wanjuan/wanjuan_exam_test_50.parquet\")"
   ]
  }
 ],
 "metadata": {
  "kernelspec": {
   "display_name": "pytorch_2",
   "language": "python",
   "name": "python3"
  },
  "language_info": {
   "codemirror_mode": {
    "name": "ipython",
    "version": 3
   },
   "file_extension": ".py",
   "mimetype": "text/x-python",
   "name": "python",
   "nbconvert_exporter": "python",
   "pygments_lexer": "ipython3",
   "version": "3.10.15"
  }
 },
 "nbformat": 4,
 "nbformat_minor": 2
}
