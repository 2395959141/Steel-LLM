{
 "cells": [
  {
   "cell_type": "code",
   "execution_count": 2,
   "metadata": {},
   "outputs": [],
   "source": [
    "import pandas as pd\n"
   ]
  },
  {
   "cell_type": "code",
   "execution_count": 25,
   "metadata": {},
   "outputs": [
    {
     "name": "stdout",
     "output_type": "stream",
     "text": [
      "Index(['instruction', 'source', 'chosen_response', 'rejected_response',\n",
      "       'chosen_rating', 'rejected_rating'],\n",
      "      dtype='object')\n",
      "54421\n"
     ]
    }
   ],
   "source": [
    "chinese_df = pd.read_parquet('/data/data/fintuning/dpo-ultrafeedback-chinese/ultrafeedback_zh_binarized_lowest.parquet')\n",
    "# 显示数据\n",
    "print(chinese_df.columns)\n",
    "all_chinese_data = []\n",
    "for i in range(len(chinese_df)):\n",
    "    prompt = chinese_df['instruction'].iloc[i]\n",
    "    chosen = chinese_df['chosen_response'].iloc[i]\n",
    "    rejected = chinese_df['rejected_response'].iloc[i]\n",
    "    all_chinese_data.append(\n",
    "        {\n",
    "            \"instruction\": prompt,\n",
    "            \"input\": \"\",\n",
    "            \"chosen\": chosen,\n",
    "            \"rejected\": rejected\n",
    "        }\n",
    "    )\n",
    "    # print(\"prompt:\",prompt)\n",
    "    # print(\"chosen:\",chosen)\n",
    "    # print(\"rejected:\",rejected)\n",
    "    # print(\"=\"*20)\n",
    "print(len(all_chinese_data))"
   ]
  },
  {
   "cell_type": "code",
   "execution_count": 26,
   "metadata": {},
   "outputs": [
    {
     "name": "stdout",
     "output_type": "stream",
     "text": [
      "{'instruction': '讲述中国春节的传统习俗，要求：回答为200-300字的记叙文，要求提及至少4个春节传统习俗，且必须包含”春联“、”年夜饭“”舞龙舞狮“、”拜年“这4个词。此外，内容需符合中国特色节日的描述语境。', 'input': '', 'chosen': '春节，中国最重要的传统节日，家家户户都沉浸在喜庆的氛围中。清晨，父亲带着我一起贴春联，红纸黑字，寓意着新年的吉祥与希望。春联上的诗句，寄托了我们对来年的美好祝愿。傍晚，全家人围坐在一起，享用丰盛的年夜饭。桌上摆满了鱼、肉、饺子等美味佳肴，象征着年年有余、团团圆圆。饭后，我们走出家门，街上锣鼓喧天，舞龙舞狮的队伍正热闹地表演着。龙腾狮跃，寓意着驱邪避灾、带来好运。大年初一，我们穿上新衣，走亲访友，互相拜年。孩子们收到红包，脸上洋溢着幸福的笑容。长辈们则送上祝福，愿我们健康平安、学业进步。春节的每一个习俗，都承载着深厚的文化底蕴，传递着浓浓的年味与亲情。', 'rejected': '春节是中国最重要的传统节日之一，更是全家团聚、欢度新年的重要日子。它以爆竹声敲响新年的钟声，以鞭炮声汇聚浓浓的新年氛围，以年夜饭的喧哗声烘托出新年的喜悦和温馨。\\n\\n新年的钟声敲响时，家家户户张贴起大红的春联，上面的句子寄托着对新年的祝愿和向往。街上行人身穿喜庆的红衣，笑容满面，洒落这浓浓的节日氛围。\\n\\n年夜饭也是春节传统习俗中必不可少的一部分。丰盛的菜肴在桌上整齐的摆放着，亲戚朋友聚在一起，分享这一年的收获和喜悦。桌上摆放着蛋糕和酒，既是祝福又是期盼新的一年能事事顺心。\\n\\n春节期间，舞龙舞狮也成为家家户户迎新年的传统习俗。龙腾舞势，飞腾而起，龙嘴伸出，吐出火**袅袅而上，热闹极了。小朋友们都围着舞龙舞狮的队伍，望着火**和龙的腾腾舞势，兴奋不已。\\n\\n最后'}\n"
     ]
    }
   ],
   "source": [
    "print(all_chinese_data[6])"
   ]
  },
  {
   "cell_type": "code",
   "execution_count": 22,
   "metadata": {},
   "outputs": [
    {
     "name": "stdout",
     "output_type": "stream",
     "text": [
      "Index(['source', 'prompt', 'chosen', 'chosen-rating', 'chosen-model',\n",
      "       'rejected', 'rejected-rating', 'rejected-model'],\n",
      "      dtype='object')\n",
      "60917\n"
     ]
    }
   ],
   "source": [
    "english_df = pd.read_parquet('/data/data/fintuning/dpo-ultrafeedback-binarized-preferences-cleaned/data/train-00000-of-00001.parquet')\n",
    "# 显示数据\n",
    "print(english_df.columns)\n",
    "all_english_data = []\n",
    "for i in range(len(english_df)):\n",
    "    prompt = english_df['prompt'].iloc[i]\n",
    "    # [{content:xxx, role:\"user\"}, {content:xxx, role:\"assistant\"}]\n",
    "    chosen = english_df['chosen'].iloc[i]\n",
    "    assert prompt == chosen[0][\"content\"]\n",
    "    rejected = english_df['rejected'].iloc[i]\n",
    "    assert prompt == chosen[0][\"content\"]\n",
    "    all_english_data.append(\n",
    "        {\n",
    "            \"instruction\": prompt,\n",
    "            \"input\": \"\",\n",
    "            \"chosen\": chosen[1][\"content\"],\n",
    "            \"rejected\": rejected[1][\"content\"]\n",
    "        }\n",
    "    )\n",
    "    # print(\"prompt:\",prompt)\n",
    "    # print(\"chosen:\",chosen)\n",
    "    # print(\"rejected:\",rejected)\n",
    "    # print(\"=\"*20)\n",
    "    # if i == 10:\n",
    "    #     break \n",
    "print(len(english_df))"
   ]
  },
  {
   "cell_type": "code",
   "execution_count": 18,
   "metadata": {},
   "outputs": [
    {
     "name": "stdout",
     "output_type": "stream",
     "text": [
      "prompt: A factory produces two types of toys: robots and cars. The factory can produce 50 robots and 100 cars per day. The demand for robots is represented by the equation p = 10 - 0.05q, where p is the price in dollars and q is the quantity demanded. The demand for cars is represented by the equation p = 15 - 0.1q.\n",
      "What is the equilibrium price and quantity for each toy? How would a decrease in the cost of production affect the equilibrium price and quantity for each toy? Show your calculations and explain the concept behind the changes in equilibrium.\n",
      "chosen: The equilibrium price and quantity for each toy can be found by setting the supply and demand equations equal to each other and solving for p and q. For robots, this gives:\n",
      "\n",
      "$$10 - 0.05q = 50/q$$\n",
      "\n",
      "Solving for q, we get:\n",
      "\n",
      "$$q = \\frac{1000}{61} = 16.32$$\n",
      "\n",
      "Substituting this back into the demand equation, we get:\n",
      "\n",
      "$$p = 10 - 0.05(16.32) = 9.40$$\n",
      "\n",
      "Therefore, the equilibrium price and quantity for robots are $9.40 and 16.32$, respectively.\n",
      "\n",
      "For cars, this gives:\n",
      "\n",
      "$$15 - 0.1q = 100/q$$\n",
      "\n",
      "Solving for q, we get:\n",
      "\n",
      "$$q = \\frac{1500}{11} = 136.36$$\n",
      "\n",
      "Substituting this back into the demand equation, we get:\n",
      "\n",
      "$$p = 15 - 0.1(136.36) = 13.04$$\n",
      "\n",
      "Therefore, the equilibrium price and quantity for cars are $13.04 and 136.36$, respectively.\n",
      "\n",
      "A decrease in the cost of production would shift the supply curve to the right, as producers would be able to produce and sell more toys at a lower cost. This would lead to an increase in the equilibrium price and quantity for both robots and cars.\n",
      "\n",
      "To illustrate this, consider the following figure. The original supply curve is S1, and the original demand curve is D1. The equilibrium price and quantity are P1 and Q1, respectively.\n",
      "\n",
      "[Diagram of a supply and demand curve with the original supply curve S1 and the original demand curve D1, and the new supply curve S2.]\n",
      "\n",
      "If the cost of production decreases, the supply curve will shift to the right, to S2. The new equilibrium price and quantity will be P2 and Q2.\n",
      "\n",
      "The concept behind the changes in equilibrium is that a decrease in the cost of production will lead to a decrease in the marginal cost of production. This means that producers will be able to produce more toys at a lower cost, and they will be willing to sell more toys at a lower price. As a result, the equilibrium price will decrease and the equilibrium quantity will increase.\n",
      "rejected:  I'm happy to help you with your question!\n",
      "\n",
      "To find the equilibrium price and quantity for each toy, we need to set up a system of equations that represents the demand and supply for each toy.\n",
      "\n",
      "For robots, the demand equation is p = 10 - 0.05q, where p is the price in dollars and q is the quantity demanded. The supply equation is 50, since the factory can produce 50 robots per day.\n",
      "\n",
      "For cars, the demand equation is p = 15 - 0.1q, where p is the price in dollars and q is the quantity demanded. The supply equation is 100, since the factory can produce 100 cars per day.\n",
      "\n",
      "To find the equilibrium price and quantity, we need to set the demand equation equal to the supply equation for each toy and solve for the variables.\n",
      "\n",
      "For robots:\n",
      "\n",
      "10 - 0.05q = 50\n",
      "\n",
      "q = 1000\n",
      "\n",
      "p = 10 - 0.05(1000) = 5\n",
      "\n",
      "So the equilibrium price for robots is $5, and the equilibrium quantity is 1000.\n",
      "\n",
      "For cars:\n",
      "\n",
      "15 - 0.1q = 100\n",
      "\n",
      "q = 1500\n",
      "\n",
      "p = 15 - 0.1(1500) = 10\n",
      "\n",
      "So the equilibrium price for cars is $10, and the equilibrium quantity is 1500.\n",
      "\n",
      "Now, let's consider how a decrease in the cost of production would affect the equilibrium price and quantity for each toy.\n",
      "\n",
      "If the cost of production for robots decreases, the supply curve would shift to the right, since the factory can now produce more robots at each price. This would cause the equilibrium price to decrease and the equilibrium quantity to increase.\n",
      "\n",
      "If the cost of production for cars decreases, the supply curve would also shift to the right, causing the equilibrium price to decrease and the equilibrium quantity to increase.\n",
      "\n",
      "It's important to note that a decrease in the cost of production would not affect the demand curve, since it is determined by consumer preferences and not by the cost of production.\n",
      "\n",
      "I hope this helps! Let me know if you have any further questions.\n"
     ]
    }
   ],
   "source": [
    "idx = 5\n",
    "print(\"prompt:\", all_english_data[idx][\"instruction\"])\n",
    "print(\"chosen:\",all_english_data[idx][\"chosen\"])\n",
    "print(\"rejected: \",all_english_data[idx][\"rejected\"])"
   ]
  },
  {
   "cell_type": "code",
   "execution_count": null,
   "metadata": {},
   "outputs": [],
   "source": [
    "import random\n",
    "random.seed(666)\n",
    "sample_num = 13600\n",
    "sample_all_english_data = random.sample(all_english_data, sample_num)\n",
    "print(f\"sampled english: {len(sample_all_english_data)} all:{len(all_chinese_data)}\")\n",
    "# 保存为JSON Lines文件\n",
    "with open('/data/data/fintuning/llamafactory_input/dpo_ChineseLowest_English20%.jsonl', 'w', encoding='utf-8') as f:\n",
    "    for item in sample_code_feedback_save_data:\n",
    "        json.dump(item, f, ensure_ascii=False)  # ensure_ascii=False 确保中文不乱码\n",
    "        f.write('\\n')  # 每行一个JSON对象"
   ]
  }
 ],
 "metadata": {
  "kernelspec": {
   "display_name": "pytorch_2",
   "language": "python",
   "name": "python3"
  },
  "language_info": {
   "codemirror_mode": {
    "name": "ipython",
    "version": 3
   },
   "file_extension": ".py",
   "mimetype": "text/x-python",
   "name": "python",
   "nbconvert_exporter": "python",
   "pygments_lexer": "ipython3",
   "version": "3.10.15"
  }
 },
 "nbformat": 4,
 "nbformat_minor": 2
}
